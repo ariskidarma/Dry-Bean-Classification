{
 "cells": [
  {
   "cell_type": "markdown",
   "metadata": {
    "id": "X27m77-f_ut4"
   },
   "source": [
    "Dataset: Dry Bean\n",
    "\n",
    "Sumber: https://archive.ics.uci.edu/ml/datasets/Dry+Bean+Dataset\n",
    "\n",
    "Dataset Dry Bean merupakan dataset tentang 7 jenis biji kering. Tujuh biji kering tersebut ditentukan dengan mempertimbangkan ciri-cirinya, seperti wujud, bentuk, jenis dan strukturnya. Dataset ini memiliki 13611 baris data dengan 16 fitur dan 1 kelas. Kelas dalam dataset ini bernama Class yang terdiri dari SEKER, BARBUNYA, BOMBAY, CALI, HOROZ, SIRA, dan DERMASON. Dataset Dry Bean merupakan dataset hasil pengukuran terhadap biji kering. Sehingga dataset ini bisa dikategorikan sebagai data kontinu. "
   ]
  },
  {
   "cell_type": "markdown",
   "metadata": {
    "id": "FDGy93BlGXzH"
   },
   "source": [
    "# **1. Import Modul dan Get Data**\n",
    "\n",
    "Mempersiapkan bahan-bahan yang akan digunakan dalam proses Machine Learning, dapat berupa modul dan dataset yang akan diolah"
   ]
  },
  {
   "cell_type": "markdown",
   "metadata": {
    "id": "Gz1ySQypVy8h"
   },
   "source": [
    "Import library yang dapat membantu dalam proses Machine Learning"
   ]
  },
  {
   "cell_type": "code",
   "execution_count": 1,
   "metadata": {
    "id": "8bXaeqRlFnhq"
   },
   "outputs": [],
   "source": [
    "# import module\n",
    "import numpy as np\n",
    "import pandas as pd\n",
    "import matplotlib.pyplot as plt"
   ]
  },
  {
   "cell_type": "markdown",
   "metadata": {
    "id": "XlQnYy2Rxsk7"
   },
   "source": [
    "Menghapus semua lokal file (untuk kebutuhan run ulang program)"
   ]
  },
  {
   "cell_type": "code",
   "execution_count": 2,
   "metadata": {
    "colab": {
     "base_uri": "https://localhost:8080/"
    },
    "id": "zy9O5EPLxmp4",
    "outputId": "755534d0-9a31-45bb-867c-e7eba3904a7c"
   },
   "outputs": [
    {
     "name": "stdout",
     "output_type": "stream",
     "text": [
      "rm: cannot remove 'sample_data': Is a directory\n"
     ]
    }
   ],
   "source": [
    "! rm *"
   ]
  },
  {
   "cell_type": "markdown",
   "metadata": {
    "id": "s8Y0ZKAbhRTn"
   },
   "source": [
    "Unduh dataset yang akan digunakan"
   ]
  },
  {
   "cell_type": "code",
   "execution_count": 3,
   "metadata": {
    "colab": {
     "base_uri": "https://localhost:8080/"
    },
    "id": "kHp35dgC_bw5",
    "outputId": "e188c009-e6a2-45c6-9b8a-da4a0f0ec4ac"
   },
   "outputs": [
    {
     "name": "stdout",
     "output_type": "stream",
     "text": [
      "--2021-04-14 15:26:20--  https://archive.ics.uci.edu/ml/machine-learning-databases/00602/DryBeanDataset.zip\n",
      "Resolving archive.ics.uci.edu (archive.ics.uci.edu)... 128.195.10.252\n",
      "Connecting to archive.ics.uci.edu (archive.ics.uci.edu)|128.195.10.252|:443... connected.\n",
      "HTTP request sent, awaiting response... 200 OK\n",
      "Length: 4738776 (4.5M) [application/x-httpd-php]\n",
      "Saving to: ‘DryBeanDataset.zip’\n",
      "\n",
      "DryBeanDataset.zip  100%[===================>]   4.52M  8.68MB/s    in 0.5s    \n",
      "\n",
      "2021-04-14 15:26:21 (8.68 MB/s) - ‘DryBeanDataset.zip’ saved [4738776/4738776]\n",
      "\n"
     ]
    }
   ],
   "source": [
    "! wget https://archive.ics.uci.edu/ml/machine-learning-databases/00602/DryBeanDataset.zip"
   ]
  },
  {
   "cell_type": "markdown",
   "metadata": {
    "id": "sNNf53SdZ6nZ"
   },
   "source": [
    "Melakukan unzip atau ekstrak arsip dataset yang sudah diunduh"
   ]
  },
  {
   "cell_type": "code",
   "execution_count": 4,
   "metadata": {
    "colab": {
     "base_uri": "https://localhost:8080/"
    },
    "id": "Nmo-rjOOENOd",
    "outputId": "c50763dc-2e2c-4f45-a83c-ec67c22ba76d"
   },
   "outputs": [
    {
     "name": "stdout",
     "output_type": "stream",
     "text": [
      "Archive:  DryBeanDataset.zip\n",
      "   creating: DryBeanDataset/\n",
      "  inflating: DryBeanDataset/Dry_Bean_Dataset.arff  \n",
      "  inflating: DryBeanDataset/Dry_Bean_Dataset.txt  \n",
      "  inflating: DryBeanDataset/Dry_Bean_Dataset.xlsx  \n"
     ]
    }
   ],
   "source": [
    "! unzip 'DryBeanDataset.zip'"
   ]
  },
  {
   "cell_type": "markdown",
   "metadata": {
    "id": "NM5GluNWhmy9"
   },
   "source": [
    "Cek direktori apakah dataset sudah berhasil diunduh dan diekstrak"
   ]
  },
  {
   "cell_type": "code",
   "execution_count": 5,
   "metadata": {
    "colab": {
     "base_uri": "https://localhost:8080/"
    },
    "id": "DKoH_k9rGe64",
    "outputId": "35a300e2-5522-4f77-add1-421a6b244939"
   },
   "outputs": [
    {
     "name": "stdout",
     "output_type": "stream",
     "text": [
      "Dry_Bean_Dataset.arff  Dry_Bean_Dataset.txt  Dry_Bean_Dataset.xlsx\n"
     ]
    }
   ],
   "source": [
    "! ls 'DryBeanDataset'"
   ]
  },
  {
   "cell_type": "markdown",
   "metadata": {
    "id": "bgbTCxLyhrJk"
   },
   "source": [
    "Memasukkan dataset ke dalam variabel **df**"
   ]
  },
  {
   "cell_type": "code",
   "execution_count": 6,
   "metadata": {
    "colab": {
     "base_uri": "https://localhost:8080/",
     "height": 431
    },
    "id": "e11IRuPH6-Zv",
    "outputId": "41cf5c97-75e8-42f4-fc8c-a001431c6ece"
   },
   "outputs": [
    {
     "data": {
      "text/html": [
       "<div>\n",
       "<style scoped>\n",
       "    .dataframe tbody tr th:only-of-type {\n",
       "        vertical-align: middle;\n",
       "    }\n",
       "\n",
       "    .dataframe tbody tr th {\n",
       "        vertical-align: top;\n",
       "    }\n",
       "\n",
       "    .dataframe thead th {\n",
       "        text-align: right;\n",
       "    }\n",
       "</style>\n",
       "<table border=\"1\" class=\"dataframe\">\n",
       "  <thead>\n",
       "    <tr style=\"text-align: right;\">\n",
       "      <th></th>\n",
       "      <th>Area</th>\n",
       "      <th>Perimeter</th>\n",
       "      <th>MajorAxisLength</th>\n",
       "      <th>MinorAxisLength</th>\n",
       "      <th>AspectRation</th>\n",
       "      <th>Eccentricity</th>\n",
       "      <th>ConvexArea</th>\n",
       "      <th>EquivDiameter</th>\n",
       "      <th>Extent</th>\n",
       "      <th>Solidity</th>\n",
       "      <th>roundness</th>\n",
       "      <th>Compactness</th>\n",
       "      <th>ShapeFactor1</th>\n",
       "      <th>ShapeFactor2</th>\n",
       "      <th>ShapeFactor3</th>\n",
       "      <th>ShapeFactor4</th>\n",
       "      <th>Class</th>\n",
       "    </tr>\n",
       "  </thead>\n",
       "  <tbody>\n",
       "    <tr>\n",
       "      <th>0</th>\n",
       "      <td>28395</td>\n",
       "      <td>610.291</td>\n",
       "      <td>208.178117</td>\n",
       "      <td>173.888747</td>\n",
       "      <td>1.197191</td>\n",
       "      <td>0.549812</td>\n",
       "      <td>28715</td>\n",
       "      <td>190.141097</td>\n",
       "      <td>0.763923</td>\n",
       "      <td>0.988856</td>\n",
       "      <td>0.958027</td>\n",
       "      <td>0.913358</td>\n",
       "      <td>0.007332</td>\n",
       "      <td>0.003147</td>\n",
       "      <td>0.834222</td>\n",
       "      <td>0.998724</td>\n",
       "      <td>SEKER</td>\n",
       "    </tr>\n",
       "    <tr>\n",
       "      <th>1</th>\n",
       "      <td>28734</td>\n",
       "      <td>638.018</td>\n",
       "      <td>200.524796</td>\n",
       "      <td>182.734419</td>\n",
       "      <td>1.097356</td>\n",
       "      <td>0.411785</td>\n",
       "      <td>29172</td>\n",
       "      <td>191.272750</td>\n",
       "      <td>0.783968</td>\n",
       "      <td>0.984986</td>\n",
       "      <td>0.887034</td>\n",
       "      <td>0.953861</td>\n",
       "      <td>0.006979</td>\n",
       "      <td>0.003564</td>\n",
       "      <td>0.909851</td>\n",
       "      <td>0.998430</td>\n",
       "      <td>SEKER</td>\n",
       "    </tr>\n",
       "    <tr>\n",
       "      <th>2</th>\n",
       "      <td>29380</td>\n",
       "      <td>624.110</td>\n",
       "      <td>212.826130</td>\n",
       "      <td>175.931143</td>\n",
       "      <td>1.209713</td>\n",
       "      <td>0.562727</td>\n",
       "      <td>29690</td>\n",
       "      <td>193.410904</td>\n",
       "      <td>0.778113</td>\n",
       "      <td>0.989559</td>\n",
       "      <td>0.947849</td>\n",
       "      <td>0.908774</td>\n",
       "      <td>0.007244</td>\n",
       "      <td>0.003048</td>\n",
       "      <td>0.825871</td>\n",
       "      <td>0.999066</td>\n",
       "      <td>SEKER</td>\n",
       "    </tr>\n",
       "    <tr>\n",
       "      <th>3</th>\n",
       "      <td>30008</td>\n",
       "      <td>645.884</td>\n",
       "      <td>210.557999</td>\n",
       "      <td>182.516516</td>\n",
       "      <td>1.153638</td>\n",
       "      <td>0.498616</td>\n",
       "      <td>30724</td>\n",
       "      <td>195.467062</td>\n",
       "      <td>0.782681</td>\n",
       "      <td>0.976696</td>\n",
       "      <td>0.903936</td>\n",
       "      <td>0.928329</td>\n",
       "      <td>0.007017</td>\n",
       "      <td>0.003215</td>\n",
       "      <td>0.861794</td>\n",
       "      <td>0.994199</td>\n",
       "      <td>SEKER</td>\n",
       "    </tr>\n",
       "    <tr>\n",
       "      <th>4</th>\n",
       "      <td>30140</td>\n",
       "      <td>620.134</td>\n",
       "      <td>201.847882</td>\n",
       "      <td>190.279279</td>\n",
       "      <td>1.060798</td>\n",
       "      <td>0.333680</td>\n",
       "      <td>30417</td>\n",
       "      <td>195.896503</td>\n",
       "      <td>0.773098</td>\n",
       "      <td>0.990893</td>\n",
       "      <td>0.984877</td>\n",
       "      <td>0.970516</td>\n",
       "      <td>0.006697</td>\n",
       "      <td>0.003665</td>\n",
       "      <td>0.941900</td>\n",
       "      <td>0.999166</td>\n",
       "      <td>SEKER</td>\n",
       "    </tr>\n",
       "    <tr>\n",
       "      <th>...</th>\n",
       "      <td>...</td>\n",
       "      <td>...</td>\n",
       "      <td>...</td>\n",
       "      <td>...</td>\n",
       "      <td>...</td>\n",
       "      <td>...</td>\n",
       "      <td>...</td>\n",
       "      <td>...</td>\n",
       "      <td>...</td>\n",
       "      <td>...</td>\n",
       "      <td>...</td>\n",
       "      <td>...</td>\n",
       "      <td>...</td>\n",
       "      <td>...</td>\n",
       "      <td>...</td>\n",
       "      <td>...</td>\n",
       "      <td>...</td>\n",
       "    </tr>\n",
       "    <tr>\n",
       "      <th>13606</th>\n",
       "      <td>42097</td>\n",
       "      <td>759.696</td>\n",
       "      <td>288.721612</td>\n",
       "      <td>185.944705</td>\n",
       "      <td>1.552728</td>\n",
       "      <td>0.765002</td>\n",
       "      <td>42508</td>\n",
       "      <td>231.515799</td>\n",
       "      <td>0.714574</td>\n",
       "      <td>0.990331</td>\n",
       "      <td>0.916603</td>\n",
       "      <td>0.801865</td>\n",
       "      <td>0.006858</td>\n",
       "      <td>0.001749</td>\n",
       "      <td>0.642988</td>\n",
       "      <td>0.998385</td>\n",
       "      <td>DERMASON</td>\n",
       "    </tr>\n",
       "    <tr>\n",
       "      <th>13607</th>\n",
       "      <td>42101</td>\n",
       "      <td>757.499</td>\n",
       "      <td>281.576392</td>\n",
       "      <td>190.713136</td>\n",
       "      <td>1.476439</td>\n",
       "      <td>0.735702</td>\n",
       "      <td>42494</td>\n",
       "      <td>231.526798</td>\n",
       "      <td>0.799943</td>\n",
       "      <td>0.990752</td>\n",
       "      <td>0.922015</td>\n",
       "      <td>0.822252</td>\n",
       "      <td>0.006688</td>\n",
       "      <td>0.001886</td>\n",
       "      <td>0.676099</td>\n",
       "      <td>0.998219</td>\n",
       "      <td>DERMASON</td>\n",
       "    </tr>\n",
       "    <tr>\n",
       "      <th>13608</th>\n",
       "      <td>42139</td>\n",
       "      <td>759.321</td>\n",
       "      <td>281.539928</td>\n",
       "      <td>191.187979</td>\n",
       "      <td>1.472582</td>\n",
       "      <td>0.734065</td>\n",
       "      <td>42569</td>\n",
       "      <td>231.631261</td>\n",
       "      <td>0.729932</td>\n",
       "      <td>0.989899</td>\n",
       "      <td>0.918424</td>\n",
       "      <td>0.822730</td>\n",
       "      <td>0.006681</td>\n",
       "      <td>0.001888</td>\n",
       "      <td>0.676884</td>\n",
       "      <td>0.996767</td>\n",
       "      <td>DERMASON</td>\n",
       "    </tr>\n",
       "    <tr>\n",
       "      <th>13609</th>\n",
       "      <td>42147</td>\n",
       "      <td>763.779</td>\n",
       "      <td>283.382636</td>\n",
       "      <td>190.275731</td>\n",
       "      <td>1.489326</td>\n",
       "      <td>0.741055</td>\n",
       "      <td>42667</td>\n",
       "      <td>231.653248</td>\n",
       "      <td>0.705389</td>\n",
       "      <td>0.987813</td>\n",
       "      <td>0.907906</td>\n",
       "      <td>0.817457</td>\n",
       "      <td>0.006724</td>\n",
       "      <td>0.001852</td>\n",
       "      <td>0.668237</td>\n",
       "      <td>0.995222</td>\n",
       "      <td>DERMASON</td>\n",
       "    </tr>\n",
       "    <tr>\n",
       "      <th>13610</th>\n",
       "      <td>42159</td>\n",
       "      <td>772.237</td>\n",
       "      <td>295.142741</td>\n",
       "      <td>182.204716</td>\n",
       "      <td>1.619841</td>\n",
       "      <td>0.786693</td>\n",
       "      <td>42600</td>\n",
       "      <td>231.686223</td>\n",
       "      <td>0.788962</td>\n",
       "      <td>0.989648</td>\n",
       "      <td>0.888380</td>\n",
       "      <td>0.784997</td>\n",
       "      <td>0.007001</td>\n",
       "      <td>0.001640</td>\n",
       "      <td>0.616221</td>\n",
       "      <td>0.998180</td>\n",
       "      <td>DERMASON</td>\n",
       "    </tr>\n",
       "  </tbody>\n",
       "</table>\n",
       "<p>13611 rows × 17 columns</p>\n",
       "</div>"
      ],
      "text/plain": [
       "        Area  Perimeter  MajorAxisLength  ...  ShapeFactor3  ShapeFactor4     Class\n",
       "0      28395    610.291       208.178117  ...      0.834222      0.998724     SEKER\n",
       "1      28734    638.018       200.524796  ...      0.909851      0.998430     SEKER\n",
       "2      29380    624.110       212.826130  ...      0.825871      0.999066     SEKER\n",
       "3      30008    645.884       210.557999  ...      0.861794      0.994199     SEKER\n",
       "4      30140    620.134       201.847882  ...      0.941900      0.999166     SEKER\n",
       "...      ...        ...              ...  ...           ...           ...       ...\n",
       "13606  42097    759.696       288.721612  ...      0.642988      0.998385  DERMASON\n",
       "13607  42101    757.499       281.576392  ...      0.676099      0.998219  DERMASON\n",
       "13608  42139    759.321       281.539928  ...      0.676884      0.996767  DERMASON\n",
       "13609  42147    763.779       283.382636  ...      0.668237      0.995222  DERMASON\n",
       "13610  42159    772.237       295.142741  ...      0.616221      0.998180  DERMASON\n",
       "\n",
       "[13611 rows x 17 columns]"
      ]
     },
     "execution_count": 6,
     "metadata": {
      "tags": []
     },
     "output_type": "execute_result"
    }
   ],
   "source": [
    "# ambil data dan memasukkannya ke dalam variabel\n",
    "# data yang akan digunakan terleatak pada file Dry_Bean_Dataset.xlsx pada sheet Dry_Beans_Dataset\n",
    "df = pd.read_excel('/content/DryBeanDataset/Dry_Bean_Dataset.xlsx', 'Dry_Beans_Dataset')\n",
    "df"
   ]
  },
  {
   "cell_type": "markdown",
   "metadata": {
    "id": "mQ5o-Z905s3e"
   },
   "source": [
    "# **2. EDA & Preprocessing**\n",
    "\n",
    "Mendapatkan informasi tentang dataset yang dimiliki dan melakukan preprocessing atau mengolah data mentah agar siap digunakan dalam proses Machine Learning"
   ]
  },
  {
   "cell_type": "markdown",
   "metadata": {
    "id": "uNemrz7jr34E"
   },
   "source": [
    "## 2.1 Get Dataframe Info\n",
    "\n",
    "Mendapatkan informasi tentang dataset yang dimiliki"
   ]
  },
  {
   "cell_type": "markdown",
   "metadata": {
    "id": "cO3j6HxAk358"
   },
   "source": [
    "Menggunakan fungsi describe() dari modul pandas untuk mendapatkan rangkuman informasi deskriptif dari fitur data yang dapat dihitung secara statistik"
   ]
  },
  {
   "cell_type": "code",
   "execution_count": 7,
   "metadata": {
    "colab": {
     "base_uri": "https://localhost:8080/",
     "height": 0
    },
    "id": "Q5LWiqtn5wSL",
    "outputId": "b463048c-069a-4f37-c508-60288d6efc73"
   },
   "outputs": [
    {
     "data": {
      "text/html": [
       "<div>\n",
       "<style scoped>\n",
       "    .dataframe tbody tr th:only-of-type {\n",
       "        vertical-align: middle;\n",
       "    }\n",
       "\n",
       "    .dataframe tbody tr th {\n",
       "        vertical-align: top;\n",
       "    }\n",
       "\n",
       "    .dataframe thead th {\n",
       "        text-align: right;\n",
       "    }\n",
       "</style>\n",
       "<table border=\"1\" class=\"dataframe\">\n",
       "  <thead>\n",
       "    <tr style=\"text-align: right;\">\n",
       "      <th></th>\n",
       "      <th>Area</th>\n",
       "      <th>Perimeter</th>\n",
       "      <th>MajorAxisLength</th>\n",
       "      <th>MinorAxisLength</th>\n",
       "      <th>AspectRation</th>\n",
       "      <th>Eccentricity</th>\n",
       "      <th>ConvexArea</th>\n",
       "      <th>EquivDiameter</th>\n",
       "      <th>Extent</th>\n",
       "      <th>Solidity</th>\n",
       "      <th>roundness</th>\n",
       "      <th>Compactness</th>\n",
       "      <th>ShapeFactor1</th>\n",
       "      <th>ShapeFactor2</th>\n",
       "      <th>ShapeFactor3</th>\n",
       "      <th>ShapeFactor4</th>\n",
       "    </tr>\n",
       "  </thead>\n",
       "  <tbody>\n",
       "    <tr>\n",
       "      <th>count</th>\n",
       "      <td>13611.000000</td>\n",
       "      <td>13611.000000</td>\n",
       "      <td>13611.000000</td>\n",
       "      <td>13611.000000</td>\n",
       "      <td>13611.000000</td>\n",
       "      <td>13611.000000</td>\n",
       "      <td>13611.000000</td>\n",
       "      <td>13611.000000</td>\n",
       "      <td>13611.000000</td>\n",
       "      <td>13611.000000</td>\n",
       "      <td>13611.000000</td>\n",
       "      <td>13611.000000</td>\n",
       "      <td>13611.000000</td>\n",
       "      <td>13611.000000</td>\n",
       "      <td>13611.000000</td>\n",
       "      <td>13611.000000</td>\n",
       "    </tr>\n",
       "    <tr>\n",
       "      <th>mean</th>\n",
       "      <td>53048.284549</td>\n",
       "      <td>855.283459</td>\n",
       "      <td>320.141867</td>\n",
       "      <td>202.270714</td>\n",
       "      <td>1.583242</td>\n",
       "      <td>0.750895</td>\n",
       "      <td>53768.200206</td>\n",
       "      <td>253.064220</td>\n",
       "      <td>0.749733</td>\n",
       "      <td>0.987143</td>\n",
       "      <td>0.873282</td>\n",
       "      <td>0.799864</td>\n",
       "      <td>0.006564</td>\n",
       "      <td>0.001716</td>\n",
       "      <td>0.643590</td>\n",
       "      <td>0.995063</td>\n",
       "    </tr>\n",
       "    <tr>\n",
       "      <th>std</th>\n",
       "      <td>29324.095717</td>\n",
       "      <td>214.289696</td>\n",
       "      <td>85.694186</td>\n",
       "      <td>44.970091</td>\n",
       "      <td>0.246678</td>\n",
       "      <td>0.092002</td>\n",
       "      <td>29774.915817</td>\n",
       "      <td>59.177120</td>\n",
       "      <td>0.049086</td>\n",
       "      <td>0.004660</td>\n",
       "      <td>0.059520</td>\n",
       "      <td>0.061713</td>\n",
       "      <td>0.001128</td>\n",
       "      <td>0.000596</td>\n",
       "      <td>0.098996</td>\n",
       "      <td>0.004366</td>\n",
       "    </tr>\n",
       "    <tr>\n",
       "      <th>min</th>\n",
       "      <td>20420.000000</td>\n",
       "      <td>524.736000</td>\n",
       "      <td>183.601165</td>\n",
       "      <td>122.512653</td>\n",
       "      <td>1.024868</td>\n",
       "      <td>0.218951</td>\n",
       "      <td>20684.000000</td>\n",
       "      <td>161.243764</td>\n",
       "      <td>0.555315</td>\n",
       "      <td>0.919246</td>\n",
       "      <td>0.489618</td>\n",
       "      <td>0.640577</td>\n",
       "      <td>0.002778</td>\n",
       "      <td>0.000564</td>\n",
       "      <td>0.410339</td>\n",
       "      <td>0.947687</td>\n",
       "    </tr>\n",
       "    <tr>\n",
       "      <th>25%</th>\n",
       "      <td>36328.000000</td>\n",
       "      <td>703.523500</td>\n",
       "      <td>253.303633</td>\n",
       "      <td>175.848170</td>\n",
       "      <td>1.432307</td>\n",
       "      <td>0.715928</td>\n",
       "      <td>36714.500000</td>\n",
       "      <td>215.068003</td>\n",
       "      <td>0.718634</td>\n",
       "      <td>0.985670</td>\n",
       "      <td>0.832096</td>\n",
       "      <td>0.762469</td>\n",
       "      <td>0.005900</td>\n",
       "      <td>0.001154</td>\n",
       "      <td>0.581359</td>\n",
       "      <td>0.993703</td>\n",
       "    </tr>\n",
       "    <tr>\n",
       "      <th>50%</th>\n",
       "      <td>44652.000000</td>\n",
       "      <td>794.941000</td>\n",
       "      <td>296.883367</td>\n",
       "      <td>192.431733</td>\n",
       "      <td>1.551124</td>\n",
       "      <td>0.764441</td>\n",
       "      <td>45178.000000</td>\n",
       "      <td>238.438026</td>\n",
       "      <td>0.759859</td>\n",
       "      <td>0.988283</td>\n",
       "      <td>0.883157</td>\n",
       "      <td>0.801277</td>\n",
       "      <td>0.006645</td>\n",
       "      <td>0.001694</td>\n",
       "      <td>0.642044</td>\n",
       "      <td>0.996386</td>\n",
       "    </tr>\n",
       "    <tr>\n",
       "      <th>75%</th>\n",
       "      <td>61332.000000</td>\n",
       "      <td>977.213000</td>\n",
       "      <td>376.495012</td>\n",
       "      <td>217.031741</td>\n",
       "      <td>1.707109</td>\n",
       "      <td>0.810466</td>\n",
       "      <td>62294.000000</td>\n",
       "      <td>279.446467</td>\n",
       "      <td>0.786851</td>\n",
       "      <td>0.990013</td>\n",
       "      <td>0.916869</td>\n",
       "      <td>0.834270</td>\n",
       "      <td>0.007271</td>\n",
       "      <td>0.002170</td>\n",
       "      <td>0.696006</td>\n",
       "      <td>0.997883</td>\n",
       "    </tr>\n",
       "    <tr>\n",
       "      <th>max</th>\n",
       "      <td>254616.000000</td>\n",
       "      <td>1985.370000</td>\n",
       "      <td>738.860153</td>\n",
       "      <td>460.198497</td>\n",
       "      <td>2.430306</td>\n",
       "      <td>0.911423</td>\n",
       "      <td>263261.000000</td>\n",
       "      <td>569.374358</td>\n",
       "      <td>0.866195</td>\n",
       "      <td>0.994677</td>\n",
       "      <td>0.990685</td>\n",
       "      <td>0.987303</td>\n",
       "      <td>0.010451</td>\n",
       "      <td>0.003665</td>\n",
       "      <td>0.974767</td>\n",
       "      <td>0.999733</td>\n",
       "    </tr>\n",
       "  </tbody>\n",
       "</table>\n",
       "</div>"
      ],
      "text/plain": [
       "                Area     Perimeter  ...  ShapeFactor3  ShapeFactor4\n",
       "count   13611.000000  13611.000000  ...  13611.000000  13611.000000\n",
       "mean    53048.284549    855.283459  ...      0.643590      0.995063\n",
       "std     29324.095717    214.289696  ...      0.098996      0.004366\n",
       "min     20420.000000    524.736000  ...      0.410339      0.947687\n",
       "25%     36328.000000    703.523500  ...      0.581359      0.993703\n",
       "50%     44652.000000    794.941000  ...      0.642044      0.996386\n",
       "75%     61332.000000    977.213000  ...      0.696006      0.997883\n",
       "max    254616.000000   1985.370000  ...      0.974767      0.999733\n",
       "\n",
       "[8 rows x 16 columns]"
      ]
     },
     "execution_count": 7,
     "metadata": {
      "tags": []
     },
     "output_type": "execute_result"
    }
   ],
   "source": [
    "df.describe()"
   ]
  },
  {
   "cell_type": "markdown",
   "metadata": {
    "id": "UZFH-4IschpA"
   },
   "source": [
    "Mendapatkan informasi umum dari dataset yang dimiliki"
   ]
  },
  {
   "cell_type": "code",
   "execution_count": 8,
   "metadata": {
    "colab": {
     "base_uri": "https://localhost:8080/"
    },
    "id": "25z13ZzG9ga0",
    "outputId": "eb015858-8679-488a-9a63-28698b263400"
   },
   "outputs": [
    {
     "name": "stdout",
     "output_type": "stream",
     "text": [
      "<class 'pandas.core.frame.DataFrame'>\n",
      "RangeIndex: 13611 entries, 0 to 13610\n",
      "Data columns (total 17 columns):\n",
      " #   Column           Non-Null Count  Dtype  \n",
      "---  ------           --------------  -----  \n",
      " 0   Area             13611 non-null  int64  \n",
      " 1   Perimeter        13611 non-null  float64\n",
      " 2   MajorAxisLength  13611 non-null  float64\n",
      " 3   MinorAxisLength  13611 non-null  float64\n",
      " 4   AspectRation     13611 non-null  float64\n",
      " 5   Eccentricity     13611 non-null  float64\n",
      " 6   ConvexArea       13611 non-null  int64  \n",
      " 7   EquivDiameter    13611 non-null  float64\n",
      " 8   Extent           13611 non-null  float64\n",
      " 9   Solidity         13611 non-null  float64\n",
      " 10  roundness        13611 non-null  float64\n",
      " 11  Compactness      13611 non-null  float64\n",
      " 12  ShapeFactor1     13611 non-null  float64\n",
      " 13  ShapeFactor2     13611 non-null  float64\n",
      " 14  ShapeFactor3     13611 non-null  float64\n",
      " 15  ShapeFactor4     13611 non-null  float64\n",
      " 16  Class            13611 non-null  object \n",
      "dtypes: float64(14), int64(2), object(1)\n",
      "memory usage: 1.8+ MB\n"
     ]
    }
   ],
   "source": [
    "df.info()"
   ]
  },
  {
   "cell_type": "markdown",
   "metadata": {
    "id": "3wbOKN5k9jYH"
   },
   "source": [
    "Dari total 13611 baris data dalam Dataframe, diketahui bahwa tidak ada nilai kosong/null di satu baris pun dan tidak ada data yang bernilai 0 (nol)"
   ]
  },
  {
   "cell_type": "markdown",
   "metadata": {
    "id": "gd08dGuRWLDG"
   },
   "source": [
    "Mendapatkan informasi jumlah baris data setiap kelas"
   ]
  },
  {
   "cell_type": "code",
   "execution_count": 9,
   "metadata": {
    "colab": {
     "base_uri": "https://localhost:8080/"
    },
    "id": "ojABjLqXVurn",
    "outputId": "5afa4312-888e-4a88-e820-b52023dcedea"
   },
   "outputs": [
    {
     "data": {
      "text/plain": [
       "Class\n",
       "BARBUNYA    1322\n",
       "BOMBAY       522\n",
       "CALI        1630\n",
       "DERMASON    3546\n",
       "HOROZ       1928\n",
       "SEKER       2027\n",
       "SIRA        2636\n",
       "dtype: int64"
      ]
     },
     "execution_count": 9,
     "metadata": {
      "tags": []
     },
     "output_type": "execute_result"
    }
   ],
   "source": [
    "df.groupby('Class').size()"
   ]
  },
  {
   "cell_type": "markdown",
   "metadata": {
    "id": "Owvr6Z1Alckc"
   },
   "source": [
    "Mendapatkan informasi ada atau tidaknya data duplikat dalam dataset"
   ]
  },
  {
   "cell_type": "code",
   "execution_count": 10,
   "metadata": {
    "colab": {
     "base_uri": "https://localhost:8080/"
    },
    "id": "Pu1h-hI9-i0O",
    "outputId": "481d2d0c-7e6e-487c-ac27-49675384ea49"
   },
   "outputs": [
    {
     "data": {
      "text/plain": [
       "False    13543\n",
       "True        68\n",
       "dtype: int64"
      ]
     },
     "execution_count": 10,
     "metadata": {
      "tags": []
     },
     "output_type": "execute_result"
    }
   ],
   "source": [
    "df.duplicated().value_counts()"
   ]
  },
  {
   "cell_type": "code",
   "execution_count": 11,
   "metadata": {
    "colab": {
     "base_uri": "https://localhost:8080/"
    },
    "id": "i9v5372AVguo",
    "outputId": "a9a6f3a3-d188-4d0f-9c3a-dcbbb6b71c00"
   },
   "outputs": [
    {
     "data": {
      "text/plain": [
       "Class\n",
       "HOROZ    68\n",
       "dtype: int64"
      ]
     },
     "execution_count": 11,
     "metadata": {
      "tags": []
     },
     "output_type": "execute_result"
    }
   ],
   "source": [
    "df[df.duplicated()].groupby('Class').size()"
   ]
  },
  {
   "cell_type": "markdown",
   "metadata": {
    "id": "2Xr7A36h-mpt"
   },
   "source": [
    "Dari total 13611 baris data dalam Dataframe, diketahui bahwa terdapat 68 data yang bernilai sama atau duplikat pada kelas HOROZ. Untuk mempertahankan jumlah data sebanyak 13611, maka data duplikat ini akan dibiarkan"
   ]
  },
  {
   "cell_type": "markdown",
   "metadata": {
    "id": "slXAKSGvc_yo"
   },
   "source": [
    "Mendapatkan informasi apakah ada nilai kosong pada baris data"
   ]
  },
  {
   "cell_type": "code",
   "execution_count": 12,
   "metadata": {
    "colab": {
     "base_uri": "https://localhost:8080/"
    },
    "id": "NV0XC9dwG40-",
    "outputId": "3c83a41a-479a-4518-f0a8-291ecb166dea"
   },
   "outputs": [
    {
     "data": {
      "text/plain": [
       "Area               0\n",
       "Perimeter          0\n",
       "MajorAxisLength    0\n",
       "MinorAxisLength    0\n",
       "AspectRation       0\n",
       "Eccentricity       0\n",
       "ConvexArea         0\n",
       "EquivDiameter      0\n",
       "Extent             0\n",
       "Solidity           0\n",
       "roundness          0\n",
       "Compactness        0\n",
       "ShapeFactor1       0\n",
       "ShapeFactor2       0\n",
       "ShapeFactor3       0\n",
       "ShapeFactor4       0\n",
       "Class              0\n",
       "dtype: int64"
      ]
     },
     "execution_count": 12,
     "metadata": {
      "tags": []
     },
     "output_type": "execute_result"
    }
   ],
   "source": [
    "df.isnull().sum()"
   ]
  },
  {
   "cell_type": "markdown",
   "metadata": {
    "id": "6gxRZvlKdEw3"
   },
   "source": [
    "Dari 13611 baris data, tidak ada data kosong pada setiap baris data"
   ]
  },
  {
   "cell_type": "markdown",
   "metadata": {
    "id": "uPjfdyRQlemi"
   },
   "source": [
    "## 2.2 Handle Outlier\n",
    "\n",
    "Data pencilan atau data outlier adalah data yang berbeda secara signifikan dengan kumpulan data lainnya. Data outlier dapat disebabkan salah satunya oleh variabilitas dalam pengukuran atau kesalahan pengukuran. Handle ourlier ditujukan untuk mengubah nilai data yang berbeda secara signifikan menjadi nilai yang seragam dengan nilai data lainnya, dapat berupa median dan rata-rata"
   ]
  },
  {
   "cell_type": "markdown",
   "metadata": {
    "id": "6wvmLJ1Xnyur"
   },
   "source": [
    "Melakukan pengecekan ada atau tidaknya data pencilan dengan menggunakan fungsi boxplot dari modul pandas yang akan menghasilkan output berupa ilustrasi data yang dimiliki"
   ]
  },
  {
   "cell_type": "code",
   "execution_count": 13,
   "metadata": {
    "colab": {
     "base_uri": "https://localhost:8080/",
     "height": 0
    },
    "id": "dvL7_Imt5-Pc",
    "outputId": "eb73d175-f86e-409e-cd70-5f4dcff58495"
   },
   "outputs": [
    {
     "data": {
      "text/plain": [
       "<matplotlib.axes._subplots.AxesSubplot at 0x7f94ba1a4950>"
      ]
     },
     "execution_count": 13,
     "metadata": {
      "tags": []
     },
     "output_type": "execute_result"
    },
    {
     "data": {
      "image/png": "[encoded data removed]",
      "text/plain": [
       "<Figure size 432x288 with 1 Axes>"
      ]
     },
     "metadata": {
      "needs_background": "light",
      "tags": []
     },
     "output_type": "display_data"
    }
   ],
   "source": [
    "df.boxplot()"
   ]
  },
  {
   "cell_type": "markdown",
   "metadata": {
    "id": "PUuYsCdeeM-E"
   },
   "source": [
    "Dikarenakan data memiliki perbedaan rentang fitur yang cukup besar, maka data pencilan tidak dapat dilhat dengan jelas sehingga digunakan plotting setiap fitur"
   ]
  },
  {
   "cell_type": "code",
   "execution_count": 14,
   "metadata": {
    "colab": {
     "base_uri": "https://localhost:8080/",
     "height": 0
    },
    "id": "PC-l93-j9LYM",
    "outputId": "8ef666ee-e400-4e34-8a37-a806b71b14f5"
   },
   "outputs": [
    {
     "data": {
      "image/png": "[encoded data removed]",
      "text/plain": [
       "<Figure size 432x252 with 1 Axes>"
      ]
     },
     "metadata": {
      "needs_background": "light",
      "tags": []
     },
     "output_type": "display_data"
    },
    {
     "data": {
      "image/png": "[encoded data removed]",
      "text/plain": [
       "<Figure size 432x252 with 1 Axes>"
      ]
     },
     "metadata": {
      "needs_background": "light",
      "tags": []
     },
     "output_type": "display_data"
    },
    {
     "data": {
      "image/png": "[encoded data removed]",
      "text/plain": [
       "<Figure size 432x252 with 1 Axes>"
      ]
     },
     "metadata": {
      "needs_background": "light",
      "tags": []
     },
     "output_type": "display_data"
    },
    {
     "data": {
      "image/png": "[encoded data removed]",
      "text/plain": [
       "<Figure size 432x252 with 1 Axes>"
      ]
     },
     "metadata": {
      "needs_background": "light",
      "tags": []
     },
     "output_type": "display_data"
    },
    {
     "data": {
      "image/png": "[encoded data removed]",
      "text/plain": [
       "<Figure size 432x252 with 1 Axes>"
      ]
     },
     "metadata": {
      "needs_background": "light",
      "tags": []
     },
     "output_type": "display_data"
    },
    {
     "data": {
      "image/png": "[encoded data removed]",
      "text/plain": [
       "<Figure size 432x252 with 1 Axes>"
      ]
     },
     "metadata": {
      "needs_background": "light",
      "tags": []
     },
     "output_type": "display_data"
    },
    {
     "data": {
      "image/png": "[encoded data removed]",
      "text/plain": [
       "<Figure size 432x252 with 1 Axes>"
      ]
     },
     "metadata": {
      "needs_background": "light",
      "tags": []
     },
     "output_type": "display_data"
    },
    {
     "data": {
      "image/png": "[encoded data removed]",
      "text/plain": [
       "<Figure size 432x252 with 1 Axes>"
      ]
     },
     "metadata": {
      "needs_background": "light",
      "tags": []
     },
     "output_type": "display_data"
    },
    {
     "data": {
      "image/png": "[encoded data removed]",
      "text/plain": [
       "<Figure size 432x252 with 1 Axes>"
      ]
     },
     "metadata": {
      "needs_background": "light",
      "tags": []
     },
     "output_type": "display_data"
    },
    {
     "data": {
      "image/png": "[encoded data removed]",
      "text/plain": [
       "<Figure size 432x252 with 1 Axes>"
      ]
     },
     "metadata": {
      "needs_background": "light",
      "tags": []
     },
     "output_type": "display_data"
    },
    {
     "data": {
      "image/png": "[encoded data removed]",
      "text/plain": [
       "<Figure size 432x252 with 1 Axes>"
      ]
     },
     "metadata": {
      "needs_background": "light",
      "tags": []
     },
     "output_type": "display_data"
    },
    {
     "data": {
      "image/png": "[encoded data removed]",
      "text/plain": [
       "<Figure size 432x252 with 1 Axes>"
      ]
     },
     "metadata": {
      "needs_background": "light",
      "tags": []
     },
     "output_type": "display_data"
    },
    {
     "data": {
      "image/png": "[encoded data removed]",
      "text/plain": [
       "<Figure size 432x252 with 1 Axes>"
      ]
     },
     "metadata": {
      "needs_background": "light",
      "tags": []
     },
     "output_type": "display_data"
    },
    {
     "data": {
      "image/png": "[encoded data removed]",
      "text/plain": [
       "<Figure size 432x252 with 1 Axes>"
      ]
     },
     "metadata": {
      "needs_background": "light",
      "tags": []
     },
     "output_type": "display_data"
    },
    {
     "data": {
      "image/png": "[encoded data removed]",
      "text/plain": [
       "<Figure size 432x252 with 1 Axes>"
      ]
     },
     "metadata": {
      "needs_background": "light",
      "tags": []
     },
     "output_type": "display_data"
    },
    {
     "data": {
      "image/png": "[encoded data removed]",
      "text/plain": [
       "<Figure size 432x252 with 1 Axes>"
      ]
     },
     "metadata": {
      "needs_background": "light",
      "tags": []
     },
     "output_type": "display_data"
    }
   ],
   "source": [
    "daftar_fitur = df.columns[:-1]\n",
    "for fitur in daftar_fitur:\n",
    "  plt.figure(figsize=(6,3.5))\n",
    "  df[fitur].plot.box()\n",
    "  plt.show()"
   ]
  },
  {
   "cell_type": "markdown",
   "metadata": {
    "id": "__NdEg53-FuD"
   },
   "source": [
    "Dari gambaran boxplot yang dihasilkan, dapat diketahui bahwa terdapat data outlier yang cukup banyak hampir di semua fitur. Outlier ini ditandai dengan adanya titik yang berada di luar whiskers atau garis terluar dari boxplot, baik di atas maupun di bawah"
   ]
  },
  {
   "cell_type": "markdown",
   "metadata": {
    "id": "JCHrBflEmWmV"
   },
   "source": [
    "Untuk mempertahankan jumlah dataset sebanyak 13611 baris, maka Handle Outlier dilakukan dengan substitusi nilai pada data outlier. Data outlier tersebut akan disubstitusikan dengan nilai maximum atau minimum dari fitur yang bersangkutan.\n"
   ]
  },
  {
   "cell_type": "code",
   "execution_count": 15,
   "metadata": {
    "id": "zVm0GY4UhCYu"
   },
   "outputs": [],
   "source": [
    "#mengambil semua kolom fitur tanpa kolom terakhir atau Class\n",
    "daftar_fitur = df.columns[:-1]\n",
    "\n",
    "#Mengganti outlier dengan subtitusi nilai baru\n",
    "for fitur in daftar_fitur:\n",
    "  #menentukan batas maximum dan minimum outlier\n",
    "  q1, q3 = np.percentile(df[fitur], [25,75])\n",
    "  iqr = q3-q1\n",
    "  minimum = q1 - (1.5 * iqr)\n",
    "  maximum = q3 + (1.5 * iqr)\n",
    "\n",
    "  # substitusi nilai outlier\n",
    "  df[fitur] = np.where(df[fitur]>maximum, maximum, df[fitur]) # jika melebihi maximum, set nilai jadi maximum\n",
    "  df[fitur] = np.where(df[fitur]<minimum, minimum, df[fitur]) # jika kurang dari minimum, set nilai jadi minimum\n",
    "\n",
    "# iqr = interquartile  range"
   ]
  },
  {
   "cell_type": "markdown",
   "metadata": {
    "id": "Q_KuSmTxlCol"
   },
   "source": [
    "Cek Data pencilan setelah melakukan Handle Outlier"
   ]
  },
  {
   "cell_type": "code",
   "execution_count": 16,
   "metadata": {
    "colab": {
     "base_uri": "https://localhost:8080/",
     "height": 0
    },
    "id": "XO667oFilE3x",
    "outputId": "3166fd82-d970-446b-df0b-60309d768674"
   },
   "outputs": [
    {
     "data": {
      "text/plain": [
       "<matplotlib.axes._subplots.AxesSubplot at 0x7f94ba01c310>"
      ]
     },
     "execution_count": 16,
     "metadata": {
      "tags": []
     },
     "output_type": "execute_result"
    },
    {
     "data": {
      "image/png": "[encoded data removed]",
      "text/plain": [
       "<Figure size 432x288 with 1 Axes>"
      ]
     },
     "metadata": {
      "needs_background": "light",
      "tags": []
     },
     "output_type": "display_data"
    }
   ],
   "source": [
    "df.boxplot()"
   ]
  },
  {
   "cell_type": "code",
   "execution_count": 17,
   "metadata": {
    "colab": {
     "base_uri": "https://localhost:8080/",
     "height": 0
    },
    "id": "PCME1pPkjU9P",
    "outputId": "7de213fb-3561-4b8e-f85c-7202afa23c53"
   },
   "outputs": [
    {
     "data": {
      "image/png": "[encoded data removed]",
      "text/plain": [
       "<Figure size 432x252 with 1 Axes>"
      ]
     },
     "metadata": {
      "needs_background": "light",
      "tags": []
     },
     "output_type": "display_data"
    },
    {
     "data": {
      "image/png": "[encoded data removed]",
      "text/plain": [
       "<Figure size 432x252 with 1 Axes>"
      ]
     },
     "metadata": {
      "needs_background": "light",
      "tags": []
     },
     "output_type": "display_data"
    },
    {
     "data": {
      "image/png": "[encoded data removed]",
      "text/plain": [
       "<Figure size 432x252 with 1 Axes>"
      ]
     },
     "metadata": {
      "needs_background": "light",
      "tags": []
     },
     "output_type": "display_data"
    },
    {
     "data": {
      "image/png": "[encoded data removed]",
      "text/plain": [
       "<Figure size 432x252 with 1 Axes>"
      ]
     },
     "metadata": {
      "needs_background": "light",
      "tags": []
     },
     "output_type": "display_data"
    },
    {
     "data": {
      "image/png": "[encoded data removed]",
      "text/plain": [
       "<Figure size 432x252 with 1 Axes>"
      ]
     },
     "metadata": {
      "needs_background": "light",
      "tags": []
     },
     "output_type": "display_data"
    },
    {
     "data": {
      "image/png": "[encoded data removed]",
      "text/plain": [
       "<Figure size 432x252 with 1 Axes>"
      ]
     },
     "metadata": {
      "needs_background": "light",
      "tags": []
     },
     "output_type": "display_data"
    },
    {
     "data": {
      "image/png": "[encoded data removed]",
      "text/plain": [
       "<Figure size 432x252 with 1 Axes>"
      ]
     },
     "metadata": {
      "needs_background": "light",
      "tags": []
     },
     "output_type": "display_data"
    },
    {
     "data": {
      "image/png": "[encoded data removed]",
      "text/plain": [
       "<Figure size 432x252 with 1 Axes>"
      ]
     },
     "metadata": {
      "needs_background": "light",
      "tags": []
     },
     "output_type": "display_data"
    },
    {
     "data": {
      "image/png": "[encoded data removed]",
      "text/plain": [
       "<Figure size 432x252 with 1 Axes>"
      ]
     },
     "metadata": {
      "needs_background": "light",
      "tags": []
     },
     "output_type": "display_data"
    },
    {
     "data": {
      "image/png": "[encoded data removed]",
      "text/plain": [
       "<Figure size 432x252 with 1 Axes>"
      ]
     },
     "metadata": {
      "needs_background": "light",
      "tags": []
     },
     "output_type": "display_data"
    },
    {
     "data": {
      "image/png": "[encoded data removed]",
      "text/plain": [
       "<Figure size 432x252 with 1 Axes>"
      ]
     },
     "metadata": {
      "needs_background": "light",
      "tags": []
     },
     "output_type": "display_data"
    },
    {
     "data": {
      "image/png": "[encoded data removed]",
      "text/plain": [
       "<Figure size 432x252 with 1 Axes>"
      ]
     },
     "metadata": {
      "needs_background": "light",
      "tags": []
     },
     "output_type": "display_data"
    },
    {
     "data": {
      "image/png": "[encoded data removed]",
      "text/plain": [
       "<Figure size 432x252 with 1 Axes>"
      ]
     },
     "metadata": {
      "needs_background": "light",
      "tags": []
     },
     "output_type": "display_data"
    },
    {
     "data": {
      "image/png": "[encoded data removed]",
      "text/plain": [
       "<Figure size 432x252 with 1 Axes>"
      ]
     },
     "metadata": {
      "needs_background": "light",
      "tags": []
     },
     "output_type": "display_data"
    },
    {
     "data": {
      "image/png": "[encoded data removed]",
      "text/plain": [
       "<Figure size 432x252 with 1 Axes>"
      ]
     },
     "metadata": {
      "needs_background": "light",
      "tags": []
     },
     "output_type": "display_data"
    },
    {
     "data": {
      "image/png": "[encoded data removed]",
      "text/plain": [
       "<Figure size 432x252 with 1 Axes>"
      ]
     },
     "metadata": {
      "needs_background": "light",
      "tags": []
     },
     "output_type": "display_data"
    }
   ],
   "source": [
    "daftar_fitur = df.columns[:-1]\n",
    "for fitur in daftar_fitur:\n",
    "  plt.figure(figsize=(6,3.5))\n",
    "  df[fitur].plot.box()\n",
    "  plt.show()"
   ]
  },
  {
   "cell_type": "markdown",
   "metadata": {
    "id": "ZCMGIGgpsR28"
   },
   "source": [
    "Didapatkan bahwa data outlier atau data pencilan berhasil diatasi dengan mensubtitusikan nilai maximum atau minimum fitur yang bersangkutan"
   ]
  },
  {
   "cell_type": "markdown",
   "metadata": {
    "id": "T3UptkKGUt9J"
   },
   "source": [
    "## 2.3 Normalisasi Z-Score\n",
    "\n",
    "Normalisasi adalah suatu proses yang bertujuan untuk menormalkan data atau menghasilkan distribusi data yang lebih mudah dibaca dan lebih baik. Normalisasi dapat dilakukan dengan menormalkan rentang fitur atau menormalkan ragam data (simpangan baku / standar deviasi). Metode normalisasi yang digunakan untuk dataset kali ini adalah Z-Score dengan menggunakan bantuan modul sklearn (scikit-learn). Normalisasi Z-Score digunakan ntuk menormalkan atau menyamakan ragam data yang dimiliki sehingga bernilai 1."
   ]
  },
  {
   "cell_type": "markdown",
   "metadata": {
    "id": "XdpQoBm3G7fK"
   },
   "source": [
    "Cek standar deviasi sebelum dilakukan normalisasi"
   ]
  },
  {
   "cell_type": "code",
   "execution_count": 18,
   "metadata": {
    "colab": {
     "base_uri": "https://localhost:8080/"
    },
    "id": "50MDSfuiVFuy",
    "outputId": "99da6830-37cc-4e14-b605-001083269639"
   },
   "outputs": [
    {
     "data": {
      "text/plain": [
       "Area               18805.909740\n",
       "Perimeter            188.983630\n",
       "MajorAxisLength       80.332564\n",
       "MinorAxisLength       32.736714\n",
       "AspectRation           0.240826\n",
       "Eccentricity           0.083215\n",
       "ConvexArea         19191.287348\n",
       "EquivDiameter         47.363930\n",
       "Extent                 0.048103\n",
       "Solidity               0.003575\n",
       "roundness              0.058508\n",
       "Compactness            0.061504\n",
       "ShapeFactor1           0.001085\n",
       "ShapeFactor2           0.000596\n",
       "ShapeFactor3           0.098143\n",
       "ShapeFactor4           0.003295\n",
       "dtype: float64"
      ]
     },
     "execution_count": 18,
     "metadata": {
      "tags": []
     },
     "output_type": "execute_result"
    }
   ],
   "source": [
    "df.std()"
   ]
  },
  {
   "cell_type": "code",
   "execution_count": 19,
   "metadata": {
    "colab": {
     "base_uri": "https://localhost:8080/"
    },
    "id": "1SutcC7fUw5A",
    "outputId": "6b95d197-19bd-4129-e6be-55ce1c007820"
   },
   "outputs": [
    {
     "data": {
      "text/plain": [
       "Area               1.000037\n",
       "Perimeter          1.000037\n",
       "MajorAxisLength    1.000037\n",
       "MinorAxisLength    1.000037\n",
       "AspectRation       1.000037\n",
       "Eccentricity       1.000037\n",
       "ConvexArea         1.000037\n",
       "EquivDiameter      1.000037\n",
       "Extent             1.000037\n",
       "Solidity           1.000037\n",
       "roundness          1.000037\n",
       "Compactness        1.000037\n",
       "ShapeFactor1       1.000037\n",
       "ShapeFactor2       1.000037\n",
       "ShapeFactor3       1.000037\n",
       "ShapeFactor4       1.000037\n",
       "dtype: float64"
      ]
     },
     "execution_count": 19,
     "metadata": {
      "tags": []
     },
     "output_type": "execute_result"
    }
   ],
   "source": [
    "from sklearn.preprocessing import StandardScaler\n",
    "scaler = StandardScaler()\n",
    "\n",
    "# daftar fitur yang akan dilakukan normalisasi\n",
    "daftar_fitur = df.columns[:-1]\n",
    "df[daftar_fitur] = scaler.fit_transform(df[daftar_fitur])\n",
    "\n",
    "# cek standar deviasi\n",
    "df.std()"
   ]
  },
  {
   "cell_type": "markdown",
   "metadata": {
    "id": "K0nPz-6BG2D1"
   },
   "source": [
    "Cek dataframe hasil normalisasi"
   ]
  },
  {
   "cell_type": "code",
   "execution_count": 20,
   "metadata": {
    "colab": {
     "base_uri": "https://localhost:8080/",
     "height": 220
    },
    "id": "nYYSNuqMVBd-",
    "outputId": "8a9c3abc-8915-4977-867b-3a8145d1bbc8"
   },
   "outputs": [
    {
     "data": {
      "text/html": [
       "<div>\n",
       "<style scoped>\n",
       "    .dataframe tbody tr th:only-of-type {\n",
       "        vertical-align: middle;\n",
       "    }\n",
       "\n",
       "    .dataframe tbody tr th {\n",
       "        vertical-align: top;\n",
       "    }\n",
       "\n",
       "    .dataframe thead th {\n",
       "        text-align: right;\n",
       "    }\n",
       "</style>\n",
       "<table border=\"1\" class=\"dataframe\">\n",
       "  <thead>\n",
       "    <tr style=\"text-align: right;\">\n",
       "      <th></th>\n",
       "      <th>Area</th>\n",
       "      <th>Perimeter</th>\n",
       "      <th>MajorAxisLength</th>\n",
       "      <th>MinorAxisLength</th>\n",
       "      <th>AspectRation</th>\n",
       "      <th>Eccentricity</th>\n",
       "      <th>ConvexArea</th>\n",
       "      <th>EquivDiameter</th>\n",
       "      <th>Extent</th>\n",
       "      <th>Solidity</th>\n",
       "      <th>roundness</th>\n",
       "      <th>Compactness</th>\n",
       "      <th>ShapeFactor1</th>\n",
       "      <th>ShapeFactor2</th>\n",
       "      <th>ShapeFactor3</th>\n",
       "      <th>ShapeFactor4</th>\n",
       "      <th>Class</th>\n",
       "    </tr>\n",
       "  </thead>\n",
       "  <tbody>\n",
       "    <tr>\n",
       "      <th>0</th>\n",
       "      <td>-1.158101</td>\n",
       "      <td>-1.256001</td>\n",
       "      <td>-1.374254</td>\n",
       "      <td>-0.754155</td>\n",
       "      <td>-1.593134</td>\n",
       "      <td>-2.164759</td>\n",
       "      <td>-1.154709</td>\n",
       "      <td>-1.253256</td>\n",
       "      <td>0.288191</td>\n",
       "      <td>0.391994</td>\n",
       "      <td>1.443596</td>\n",
       "      <td>1.846568</td>\n",
       "      <td>0.693778</td>\n",
       "      <td>2.402173</td>\n",
       "      <td>1.945927</td>\n",
       "      <td>1.021155</td>\n",
       "      <td>SEKER</td>\n",
       "    </tr>\n",
       "    <tr>\n",
       "      <th>1</th>\n",
       "      <td>-1.140074</td>\n",
       "      <td>-1.109279</td>\n",
       "      <td>-1.469528</td>\n",
       "      <td>-0.483939</td>\n",
       "      <td>-2.007702</td>\n",
       "      <td>-2.164759</td>\n",
       "      <td>-1.130895</td>\n",
       "      <td>-1.229363</td>\n",
       "      <td>0.704930</td>\n",
       "      <td>-0.690705</td>\n",
       "      <td>0.230145</td>\n",
       "      <td>2.311820</td>\n",
       "      <td>0.368651</td>\n",
       "      <td>3.100893</td>\n",
       "      <td>2.289880</td>\n",
       "      <td>0.932056</td>\n",
       "      <td>SEKER</td>\n",
       "    </tr>\n",
       "    <tr>\n",
       "      <th>2</th>\n",
       "      <td>-1.105722</td>\n",
       "      <td>-1.182876</td>\n",
       "      <td>-1.316393</td>\n",
       "      <td>-0.691764</td>\n",
       "      <td>-1.541139</td>\n",
       "      <td>-2.164759</td>\n",
       "      <td>-1.103903</td>\n",
       "      <td>-1.184218</td>\n",
       "      <td>0.583210</td>\n",
       "      <td>0.588587</td>\n",
       "      <td>1.269635</td>\n",
       "      <td>1.772042</td>\n",
       "      <td>0.613065</td>\n",
       "      <td>2.235091</td>\n",
       "      <td>1.860826</td>\n",
       "      <td>1.125032</td>\n",
       "      <td>SEKER</td>\n",
       "    </tr>\n",
       "    <tr>\n",
       "      <th>3</th>\n",
       "      <td>-1.072327</td>\n",
       "      <td>-1.067655</td>\n",
       "      <td>-1.344628</td>\n",
       "      <td>-0.490595</td>\n",
       "      <td>-1.773991</td>\n",
       "      <td>-2.164759</td>\n",
       "      <td>-1.050022</td>\n",
       "      <td>-1.140804</td>\n",
       "      <td>0.678177</td>\n",
       "      <td>-2.321377</td>\n",
       "      <td>0.519054</td>\n",
       "      <td>2.089993</td>\n",
       "      <td>0.403730</td>\n",
       "      <td>2.515075</td>\n",
       "      <td>2.226874</td>\n",
       "      <td>-0.352257</td>\n",
       "      <td>SEKER</td>\n",
       "    </tr>\n",
       "    <tr>\n",
       "      <th>4</th>\n",
       "      <td>-1.065308</td>\n",
       "      <td>-1.203915</td>\n",
       "      <td>-1.453058</td>\n",
       "      <td>-0.253460</td>\n",
       "      <td>-2.159512</td>\n",
       "      <td>-2.164759</td>\n",
       "      <td>-1.066020</td>\n",
       "      <td>-1.131737</td>\n",
       "      <td>0.478946</td>\n",
       "      <td>0.961891</td>\n",
       "      <td>1.902527</td>\n",
       "      <td>2.311820</td>\n",
       "      <td>0.109128</td>\n",
       "      <td>3.270983</td>\n",
       "      <td>2.289880</td>\n",
       "      <td>1.155359</td>\n",
       "      <td>SEKER</td>\n",
       "    </tr>\n",
       "  </tbody>\n",
       "</table>\n",
       "</div>"
      ],
      "text/plain": [
       "       Area  Perimeter  MajorAxisLength  ...  ShapeFactor3  ShapeFactor4  Class\n",
       "0 -1.158101  -1.256001        -1.374254  ...      1.945927      1.021155  SEKER\n",
       "1 -1.140074  -1.109279        -1.469528  ...      2.289880      0.932056  SEKER\n",
       "2 -1.105722  -1.182876        -1.316393  ...      1.860826      1.125032  SEKER\n",
       "3 -1.072327  -1.067655        -1.344628  ...      2.226874     -0.352257  SEKER\n",
       "4 -1.065308  -1.203915        -1.453058  ...      2.289880      1.155359  SEKER\n",
       "\n",
       "[5 rows x 17 columns]"
      ]
     },
     "execution_count": 20,
     "metadata": {
      "tags": []
     },
     "output_type": "execute_result"
    }
   ],
   "source": [
    "df.head()"
   ]
  },
  {
   "cell_type": "markdown",
   "metadata": {
    "id": "C54X4KaKGxYM"
   },
   "source": [
    "Cek informasi statistik dataframe untuk melihat minimum dan maximum baris data"
   ]
  },
  {
   "cell_type": "code",
   "execution_count": 21,
   "metadata": {
    "colab": {
     "base_uri": "https://localhost:8080/",
     "height": 311
    },
    "id": "a_CXMAypWcvf",
    "outputId": "c216f3d0-7652-46fc-ac5a-8a59db65c997"
   },
   "outputs": [
    {
     "data": {
      "text/html": [
       "<div>\n",
       "<style scoped>\n",
       "    .dataframe tbody tr th:only-of-type {\n",
       "        vertical-align: middle;\n",
       "    }\n",
       "\n",
       "    .dataframe tbody tr th {\n",
       "        vertical-align: top;\n",
       "    }\n",
       "\n",
       "    .dataframe thead th {\n",
       "        text-align: right;\n",
       "    }\n",
       "</style>\n",
       "<table border=\"1\" class=\"dataframe\">\n",
       "  <thead>\n",
       "    <tr style=\"text-align: right;\">\n",
       "      <th></th>\n",
       "      <th>Area</th>\n",
       "      <th>Perimeter</th>\n",
       "      <th>MajorAxisLength</th>\n",
       "      <th>MinorAxisLength</th>\n",
       "      <th>AspectRation</th>\n",
       "      <th>Eccentricity</th>\n",
       "      <th>ConvexArea</th>\n",
       "      <th>EquivDiameter</th>\n",
       "      <th>Extent</th>\n",
       "      <th>Solidity</th>\n",
       "      <th>roundness</th>\n",
       "      <th>Compactness</th>\n",
       "      <th>ShapeFactor1</th>\n",
       "      <th>ShapeFactor2</th>\n",
       "      <th>ShapeFactor3</th>\n",
       "      <th>ShapeFactor4</th>\n",
       "    </tr>\n",
       "  </thead>\n",
       "  <tbody>\n",
       "    <tr>\n",
       "      <th>count</th>\n",
       "      <td>1.361100e+04</td>\n",
       "      <td>1.361100e+04</td>\n",
       "      <td>1.361100e+04</td>\n",
       "      <td>1.361100e+04</td>\n",
       "      <td>1.361100e+04</td>\n",
       "      <td>1.361100e+04</td>\n",
       "      <td>1.361100e+04</td>\n",
       "      <td>1.361100e+04</td>\n",
       "      <td>1.361100e+04</td>\n",
       "      <td>1.361100e+04</td>\n",
       "      <td>1.361100e+04</td>\n",
       "      <td>1.361100e+04</td>\n",
       "      <td>1.361100e+04</td>\n",
       "      <td>1.361100e+04</td>\n",
       "      <td>1.361100e+04</td>\n",
       "      <td>1.361100e+04</td>\n",
       "    </tr>\n",
       "    <tr>\n",
       "      <th>mean</th>\n",
       "      <td>1.382456e-16</td>\n",
       "      <td>7.875560e-16</td>\n",
       "      <td>-2.335457e-16</td>\n",
       "      <td>2.109562e-15</td>\n",
       "      <td>1.615792e-15</td>\n",
       "      <td>1.471741e-15</td>\n",
       "      <td>2.079660e-16</td>\n",
       "      <td>-8.046038e-16</td>\n",
       "      <td>-5.735133e-16</td>\n",
       "      <td>-2.989457e-14</td>\n",
       "      <td>1.562873e-15</td>\n",
       "      <td>-1.719006e-16</td>\n",
       "      <td>3.892853e-15</td>\n",
       "      <td>7.887938e-16</td>\n",
       "      <td>-3.080785e-16</td>\n",
       "      <td>9.653524e-15</td>\n",
       "    </tr>\n",
       "    <tr>\n",
       "      <th>std</th>\n",
       "      <td>1.000037e+00</td>\n",
       "      <td>1.000037e+00</td>\n",
       "      <td>1.000037e+00</td>\n",
       "      <td>1.000037e+00</td>\n",
       "      <td>1.000037e+00</td>\n",
       "      <td>1.000037e+00</td>\n",
       "      <td>1.000037e+00</td>\n",
       "      <td>1.000037e+00</td>\n",
       "      <td>1.000037e+00</td>\n",
       "      <td>1.000037e+00</td>\n",
       "      <td>1.000037e+00</td>\n",
       "      <td>1.000037e+00</td>\n",
       "      <td>1.000037e+00</td>\n",
       "      <td>1.000037e+00</td>\n",
       "      <td>1.000037e+00</td>\n",
       "      <td>1.000037e+00</td>\n",
       "    </tr>\n",
       "    <tr>\n",
       "      <th>min</th>\n",
       "      <td>-1.582185e+00</td>\n",
       "      <td>-1.708729e+00</td>\n",
       "      <td>-1.680206e+00</td>\n",
       "      <td>-2.323585e+00</td>\n",
       "      <td>-2.308714e+00</td>\n",
       "      <td>-2.164759e+00</td>\n",
       "      <td>-1.573196e+00</td>\n",
       "      <td>-1.863391e+00</td>\n",
       "      <td>-2.780675e+00</td>\n",
       "      <td>-2.321377e+00</td>\n",
       "      <td>-2.882317e+00</td>\n",
       "      <td>-2.358025e+00</td>\n",
       "      <td>-2.520980e+00</td>\n",
       "      <td>-1.932991e+00</td>\n",
       "      <td>-2.373260e+00</td>\n",
       "      <td>-2.405657e+00</td>\n",
       "    </tr>\n",
       "    <tr>\n",
       "      <th>25%</th>\n",
       "      <td>-7.362501e-01</td>\n",
       "      <td>-7.626467e-01</td>\n",
       "      <td>-8.125000e-01</td>\n",
       "      <td>-6.942991e-01</td>\n",
       "      <td>-6.168104e-01</td>\n",
       "      <td>-4.605915e-01</td>\n",
       "      <td>-7.378642e-01</td>\n",
       "      <td>-7.269523e-01</td>\n",
       "      <td>-6.533456e-01</td>\n",
       "      <td>-4.991414e-01</td>\n",
       "      <td>-7.088661e-01</td>\n",
       "      <td>-6.068330e-01</td>\n",
       "      <td>-6.253443e-01</td>\n",
       "      <td>-9.439025e-01</td>\n",
       "      <td>-6.306426e-01</td>\n",
       "      <td>-5.027860e-01</td>\n",
       "    </tr>\n",
       "    <tr>\n",
       "      <th>50%</th>\n",
       "      <td>-2.936070e-01</td>\n",
       "      <td>-2.788966e-01</td>\n",
       "      <td>-2.699885e-01</td>\n",
       "      <td>-1.877066e-01</td>\n",
       "      <td>-1.234206e-01</td>\n",
       "      <td>1.224134e-01</td>\n",
       "      <td>-2.968406e-01</td>\n",
       "      <td>-2.335202e-01</td>\n",
       "      <td>2.037117e-01</td>\n",
       "      <td>2.317035e-01</td>\n",
       "      <td>1.638893e-01</td>\n",
       "      <td>2.417019e-02</td>\n",
       "      <td>6.136505e-02</td>\n",
       "      <td>-3.762062e-02</td>\n",
       "      <td>-1.228201e-02</td>\n",
       "      <td>3.115543e-01</td>\n",
       "    </tr>\n",
       "    <tr>\n",
       "      <th>75%</th>\n",
       "      <td>5.933808e-01</td>\n",
       "      <td>6.856245e-01</td>\n",
       "      <td>7.210737e-01</td>\n",
       "      <td>5.637711e-01</td>\n",
       "      <td>5.243127e-01</td>\n",
       "      <td>6.755202e-01</td>\n",
       "      <td>5.950553e-01</td>\n",
       "      <td>6.323274e-01</td>\n",
       "      <td>7.648742e-01</td>\n",
       "      <td>7.156823e-01</td>\n",
       "      <td>7.401012e-01</td>\n",
       "      <td>5.606283e-01</td>\n",
       "      <td>6.384126e-01</td>\n",
       "      <td>7.624716e-01</td>\n",
       "      <td>5.375663e-01</td>\n",
       "      <td>7.657946e-01</td>\n",
       "    </tr>\n",
       "    <tr>\n",
       "      <th>max</th>\n",
       "      <td>2.587827e+00</td>\n",
       "      <td>2.858031e+00</td>\n",
       "      <td>3.021434e+00</td>\n",
       "      <td>2.450876e+00</td>\n",
       "      <td>2.235997e+00</td>\n",
       "      <td>1.888769e+00</td>\n",
       "      <td>2.594434e+00</td>\n",
       "      <td>2.671247e+00</td>\n",
       "      <td>2.414381e+00</td>\n",
       "      <td>2.020492e+00</td>\n",
       "      <td>2.001805e+00</td>\n",
       "      <td>2.311820e+00</td>\n",
       "      <td>2.534048e+00</td>\n",
       "      <td>3.270983e+00</td>\n",
       "      <td>2.289880e+00</td>\n",
       "      <td>1.327291e+00</td>\n",
       "    </tr>\n",
       "  </tbody>\n",
       "</table>\n",
       "</div>"
      ],
      "text/plain": [
       "               Area     Perimeter  ...  ShapeFactor3  ShapeFactor4\n",
       "count  1.361100e+04  1.361100e+04  ...  1.361100e+04  1.361100e+04\n",
       "mean   1.382456e-16  7.875560e-16  ... -3.080785e-16  9.653524e-15\n",
       "std    1.000037e+00  1.000037e+00  ...  1.000037e+00  1.000037e+00\n",
       "min   -1.582185e+00 -1.708729e+00  ... -2.373260e+00 -2.405657e+00\n",
       "25%   -7.362501e-01 -7.626467e-01  ... -6.306426e-01 -5.027860e-01\n",
       "50%   -2.936070e-01 -2.788966e-01  ... -1.228201e-02  3.115543e-01\n",
       "75%    5.933808e-01  6.856245e-01  ...  5.375663e-01  7.657946e-01\n",
       "max    2.587827e+00  2.858031e+00  ...  2.289880e+00  1.327291e+00\n",
       "\n",
       "[8 rows x 16 columns]"
      ]
     },
     "execution_count": 21,
     "metadata": {
      "tags": []
     },
     "output_type": "execute_result"
    }
   ],
   "source": [
    "df.describe()"
   ]
  },
  {
   "cell_type": "markdown",
   "metadata": {
    "id": "VeE-jgTlGlWI"
   },
   "source": [
    "Cek visualisasi dalam boxplot"
   ]
  },
  {
   "cell_type": "code",
   "execution_count": 22,
   "metadata": {
    "colab": {
     "base_uri": "https://localhost:8080/",
     "height": 283
    },
    "id": "LUcJQfXvWira",
    "outputId": "7e1ae75d-e3cd-4d24-ecb1-efe96310197f"
   },
   "outputs": [
    {
     "data": {
      "text/plain": [
       "<matplotlib.axes._subplots.AxesSubplot at 0x7f94ba28fdd0>"
      ]
     },
     "execution_count": 22,
     "metadata": {
      "tags": []
     },
     "output_type": "execute_result"
    },
    {
     "data": {
      "image/png": "[encoded data removed]",
      "text/plain": [
       "<Figure size 432x288 with 1 Axes>"
      ]
     },
     "metadata": {
      "needs_background": "light",
      "tags": []
     },
     "output_type": "display_data"
    }
   ],
   "source": [
    "df.boxplot()"
   ]
  },
  {
   "cell_type": "markdown",
   "metadata": {
    "id": "ut-gxC64sGe0"
   },
   "source": [
    "# **3. Model Selection / Split Data**\n",
    "\n",
    "Model selection dilakukan dengan membagi dataframe menjadi data_latih dan data_uji (split data). Data latih adalah kumpulan dataframe yang nantinya akan dibuat model untuk proses training. Sedangkan Data uji adalah data yang nantinya akan diprediksi tergolong ke dalam kelas mana untuk evaluasi Machine Learning. Data uji yang akan digunakan adalah 2 sampel pertama masing-masing kelas yang ada, sehingga akan ada 14 data uji nantinya (7 kelas x 2 sampel)."
   ]
  },
  {
   "cell_type": "markdown",
   "metadata": {
    "id": "8X3qyxWZV3fB"
   },
   "source": [
    "Membuat function split_data untuk melakukan split dataset menjadi data_latih dan data_uji"
   ]
  },
  {
   "cell_type": "code",
   "execution_count": 23,
   "metadata": {
    "id": "a_l3bl9EWFON"
   },
   "outputs": [],
   "source": [
    "# mbmbuat data uji dari dataframe yang ada\n",
    "def split_data(df):\n",
    "  # membuat dataframe kosong untuk menyimpan data uji\n",
    "  daftar_kolom = df.columns[:]\n",
    "  df_uji = pd.DataFrame(columns=daftar_kolom)\n",
    "\n",
    "  # daftar nama kelas yang unik\n",
    "  daftar = np.unique(df[df.columns[-1]])\n",
    "  daftar_kelas = []\n",
    "  for i in range(len(daftar)):\n",
    "    daftar_kelas.append(daftar[i])\n",
    "    daftar_kelas.append(daftar[i])\n",
    "\n",
    "  for row in range(df.shape[0]):\n",
    "    if(len(daftar_kelas) == 0):\n",
    "      break \n",
    "    for kelas in daftar_kelas:\n",
    "      if(df.iloc[row]['Class'] == kelas):\n",
    "        daftar_kelas.remove(df.iloc[row]['Class']) #hapus kelas unik yang ditemukan dari list kelas\n",
    "        df_uji = df_uji.append(df.iloc[row]) #tambahkan kelas ke dataframe kosong / dataframe uji\n",
    "        df = df.drop(row) # hapus baris data di dataframe asli\n",
    "\n",
    "  return df,df_uji"
   ]
  },
  {
   "cell_type": "markdown",
   "metadata": {
    "id": "NDxnDSPlWRF7"
   },
   "source": [
    "Menjalankan fungsi split data dan simpan ke variabel baru data_latih dan data_uji"
   ]
  },
  {
   "cell_type": "code",
   "execution_count": 24,
   "metadata": {
    "id": "pdx8WYxIWQoC"
   },
   "outputs": [],
   "source": [
    "data_latih,data_uji = split_data(df)"
   ]
  },
  {
   "cell_type": "markdown",
   "metadata": {
    "id": "2Ro_rqekoKS1"
   },
   "source": [
    "Cek ukuran data_latih dan data_uji"
   ]
  },
  {
   "cell_type": "code",
   "execution_count": 25,
   "metadata": {
    "colab": {
     "base_uri": "https://localhost:8080/"
    },
    "id": "KJYz1NCxWcpb",
    "outputId": "1a8938ea-70d1-47a8-a610-018918c45926"
   },
   "outputs": [
    {
     "name": "stdout",
     "output_type": "stream",
     "text": [
      "(13597, 17)\n",
      "(14, 17)\n"
     ]
    }
   ],
   "source": [
    "print(data_latih.shape)\n",
    "print(data_uji.shape)"
   ]
  },
  {
   "cell_type": "markdown",
   "metadata": {
    "id": "Brl1kcFfoNq2"
   },
   "source": [
    "Cetak isi data_uji"
   ]
  },
  {
   "cell_type": "code",
   "execution_count": 26,
   "metadata": {
    "colab": {
     "base_uri": "https://localhost:8080/",
     "height": 493
    },
    "id": "H_wLlb2nf3T5",
    "outputId": "477c87aa-8ffa-460b-af05-29287d438035"
   },
   "outputs": [
    {
     "data": {
      "text/html": [
       "<div>\n",
       "<style scoped>\n",
       "    .dataframe tbody tr th:only-of-type {\n",
       "        vertical-align: middle;\n",
       "    }\n",
       "\n",
       "    .dataframe tbody tr th {\n",
       "        vertical-align: top;\n",
       "    }\n",
       "\n",
       "    .dataframe thead th {\n",
       "        text-align: right;\n",
       "    }\n",
       "</style>\n",
       "<table border=\"1\" class=\"dataframe\">\n",
       "  <thead>\n",
       "    <tr style=\"text-align: right;\">\n",
       "      <th></th>\n",
       "      <th>Area</th>\n",
       "      <th>Perimeter</th>\n",
       "      <th>MajorAxisLength</th>\n",
       "      <th>MinorAxisLength</th>\n",
       "      <th>AspectRation</th>\n",
       "      <th>Eccentricity</th>\n",
       "      <th>ConvexArea</th>\n",
       "      <th>EquivDiameter</th>\n",
       "      <th>Extent</th>\n",
       "      <th>Solidity</th>\n",
       "      <th>roundness</th>\n",
       "      <th>Compactness</th>\n",
       "      <th>ShapeFactor1</th>\n",
       "      <th>ShapeFactor2</th>\n",
       "      <th>ShapeFactor3</th>\n",
       "      <th>ShapeFactor4</th>\n",
       "      <th>Class</th>\n",
       "    </tr>\n",
       "  </thead>\n",
       "  <tbody>\n",
       "    <tr>\n",
       "      <th>0</th>\n",
       "      <td>-1.158101</td>\n",
       "      <td>-1.256001</td>\n",
       "      <td>-1.374254</td>\n",
       "      <td>-0.754155</td>\n",
       "      <td>-1.593134</td>\n",
       "      <td>-2.164759</td>\n",
       "      <td>-1.154709</td>\n",
       "      <td>-1.253256</td>\n",
       "      <td>0.288191</td>\n",
       "      <td>0.391994</td>\n",
       "      <td>1.443596</td>\n",
       "      <td>1.846568</td>\n",
       "      <td>0.693778</td>\n",
       "      <td>2.402173</td>\n",
       "      <td>1.945927</td>\n",
       "      <td>1.021155</td>\n",
       "      <td>SEKER</td>\n",
       "    </tr>\n",
       "    <tr>\n",
       "      <th>2</th>\n",
       "      <td>-1.105722</td>\n",
       "      <td>-1.182876</td>\n",
       "      <td>-1.316393</td>\n",
       "      <td>-0.691764</td>\n",
       "      <td>-1.541139</td>\n",
       "      <td>-2.164759</td>\n",
       "      <td>-1.103903</td>\n",
       "      <td>-1.184218</td>\n",
       "      <td>0.583210</td>\n",
       "      <td>0.588587</td>\n",
       "      <td>1.269635</td>\n",
       "      <td>1.772042</td>\n",
       "      <td>0.613065</td>\n",
       "      <td>2.235091</td>\n",
       "      <td>1.860826</td>\n",
       "      <td>1.125032</td>\n",
       "      <td>SEKER</td>\n",
       "    </tr>\n",
       "    <tr>\n",
       "      <th>2027</th>\n",
       "      <td>-0.461911</td>\n",
       "      <td>-0.167989</td>\n",
       "      <td>-0.243056</td>\n",
       "      <td>-0.656624</td>\n",
       "      <td>0.448088</td>\n",
       "      <td>0.619754</td>\n",
       "      <td>-0.437274</td>\n",
       "      <td>-0.415220</td>\n",
       "      <td>-1.265760</td>\n",
       "      <td>-2.321377</td>\n",
       "      <td>-1.545383</td>\n",
       "      <td>-0.507962</td>\n",
       "      <td>0.580165</td>\n",
       "      <td>-0.276331</td>\n",
       "      <td>-0.535780</td>\n",
       "      <td>0.647498</td>\n",
       "      <td>BARBUNYA</td>\n",
       "    </tr>\n",
       "    <tr>\n",
       "      <th>2029</th>\n",
       "      <td>-0.433994</td>\n",
       "      <td>-0.200427</td>\n",
       "      <td>-0.645728</td>\n",
       "      <td>0.116225</td>\n",
       "      <td>-1.092250</td>\n",
       "      <td>-1.237433</td>\n",
       "      <td>-0.405800</td>\n",
       "      <td>-0.384613</td>\n",
       "      <td>0.434821</td>\n",
       "      <td>-2.321377</td>\n",
       "      <td>-1.169981</td>\n",
       "      <td>1.096021</td>\n",
       "      <td>-0.212283</td>\n",
       "      <td>0.836933</td>\n",
       "      <td>1.108440</td>\n",
       "      <td>-1.311908</td>\n",
       "      <td>BARBUNYA</td>\n",
       "    </tr>\n",
       "    <tr>\n",
       "      <th>3349</th>\n",
       "      <td>2.587827</td>\n",
       "      <td>2.284462</td>\n",
       "      <td>1.653062</td>\n",
       "      <td>2.450876</td>\n",
       "      <td>-0.775156</td>\n",
       "      <td>-0.690518</td>\n",
       "      <td>2.594434</td>\n",
       "      <td>2.671247</td>\n",
       "      <td>-0.022319</td>\n",
       "      <td>0.369869</td>\n",
       "      <td>0.029252</td>\n",
       "      <td>0.720365</td>\n",
       "      <td>-2.413625</td>\n",
       "      <td>-0.799123</td>\n",
       "      <td>0.705576</td>\n",
       "      <td>-0.612292</td>\n",
       "      <td>BOMBAY</td>\n",
       "    </tr>\n",
       "    <tr>\n",
       "      <th>3351</th>\n",
       "      <td>2.587827</td>\n",
       "      <td>2.536361</td>\n",
       "      <td>1.956950</td>\n",
       "      <td>2.450876</td>\n",
       "      <td>-0.743162</td>\n",
       "      <td>-0.642026</td>\n",
       "      <td>2.594434</td>\n",
       "      <td>2.671247</td>\n",
       "      <td>0.441830</td>\n",
       "      <td>-0.236591</td>\n",
       "      <td>0.499778</td>\n",
       "      <td>0.711372</td>\n",
       "      <td>-2.520980</td>\n",
       "      <td>-0.908466</td>\n",
       "      <td>0.696065</td>\n",
       "      <td>0.656715</td>\n",
       "      <td>BOMBAY</td>\n",
       "    </tr>\n",
       "    <tr>\n",
       "      <th>3871</th>\n",
       "      <td>-0.248300</td>\n",
       "      <td>-0.286961</td>\n",
       "      <td>-0.287585</td>\n",
       "      <td>-0.069178</td>\n",
       "      <td>-0.314516</td>\n",
       "      <td>-0.082709</td>\n",
       "      <td>-0.255466</td>\n",
       "      <td>-0.185717</td>\n",
       "      <td>-0.255319</td>\n",
       "      <td>0.661631</td>\n",
       "      <td>0.594609</td>\n",
       "      <td>0.241483</td>\n",
       "      <td>-0.078604</td>\n",
       "      <td>0.080724</td>\n",
       "      <td>0.207782</td>\n",
       "      <td>1.059306</td>\n",
       "      <td>CALI</td>\n",
       "    </tr>\n",
       "    <tr>\n",
       "      <th>3873</th>\n",
       "      <td>-0.095736</td>\n",
       "      <td>-0.119051</td>\n",
       "      <td>-0.062256</td>\n",
       "      <td>-0.020702</td>\n",
       "      <td>0.015174</td>\n",
       "      <td>0.257601</td>\n",
       "      <td>-0.096326</td>\n",
       "      <td>-0.027952</td>\n",
       "      <td>1.174174</td>\n",
       "      <td>-0.216567</td>\n",
       "      <td>0.328531</td>\n",
       "      <td>-0.135667</td>\n",
       "      <td>-0.088674</td>\n",
       "      <td>-0.246769</td>\n",
       "      <td>-0.171820</td>\n",
       "      <td>-0.864691</td>\n",
       "      <td>CALI</td>\n",
       "    </tr>\n",
       "    <tr>\n",
       "      <th>5501</th>\n",
       "      <td>-0.912903</td>\n",
       "      <td>-0.725751</td>\n",
       "      <td>-0.442565</td>\n",
       "      <td>-1.495400</td>\n",
       "      <td>1.290199</td>\n",
       "      <td>1.136546</td>\n",
       "      <td>-0.912976</td>\n",
       "      <td>-0.939550</td>\n",
       "      <td>-2.382147</td>\n",
       "      <td>0.590740</td>\n",
       "      <td>-0.887658</td>\n",
       "      <td>-1.227028</td>\n",
       "      <td>1.839413</td>\n",
       "      <td>-0.436383</td>\n",
       "      <td>-1.208504</td>\n",
       "      <td>-0.899552</td>\n",
       "      <td>HOROZ</td>\n",
       "    </tr>\n",
       "    <tr>\n",
       "      <th>5503</th>\n",
       "      <td>-0.891579</td>\n",
       "      <td>-0.748367</td>\n",
       "      <td>-0.461052</td>\n",
       "      <td>-1.400146</td>\n",
       "      <td>1.089473</td>\n",
       "      <td>1.030867</td>\n",
       "      <td>-0.879887</td>\n",
       "      <td>-0.913337</td>\n",
       "      <td>1.243349</td>\n",
       "      <td>-1.280615</td>\n",
       "      <td>-0.544467</td>\n",
       "      <td>-1.093200</td>\n",
       "      <td>1.703610</td>\n",
       "      <td>-0.367353</td>\n",
       "      <td>-1.086319</td>\n",
       "      <td>-1.888533</td>\n",
       "      <td>HOROZ</td>\n",
       "    </tr>\n",
       "    <tr>\n",
       "      <th>7429</th>\n",
       "      <td>-0.991977</td>\n",
       "      <td>-0.904900</td>\n",
       "      <td>-0.790467</td>\n",
       "      <td>-1.245548</td>\n",
       "      <td>0.147673</td>\n",
       "      <td>0.377440</td>\n",
       "      <td>-0.980144</td>\n",
       "      <td>-1.038175</td>\n",
       "      <td>0.165745</td>\n",
       "      <td>-1.253963</td>\n",
       "      <td>-0.144775</td>\n",
       "      <td>-0.234422</td>\n",
       "      <td>1.395165</td>\n",
       "      <td>0.307586</td>\n",
       "      <td>-0.269405</td>\n",
       "      <td>0.503089</td>\n",
       "      <td>SIRA</td>\n",
       "    </tr>\n",
       "    <tr>\n",
       "      <th>7431</th>\n",
       "      <td>-0.920826</td>\n",
       "      <td>-0.950064</td>\n",
       "      <td>-1.055233</td>\n",
       "      <td>-0.582715</td>\n",
       "      <td>-1.155721</td>\n",
       "      <td>-1.363869</td>\n",
       "      <td>-0.921783</td>\n",
       "      <td>-0.949331</td>\n",
       "      <td>0.530326</td>\n",
       "      <td>0.744469</td>\n",
       "      <td>0.879275</td>\n",
       "      <td>1.219846</td>\n",
       "      <td>0.495050</td>\n",
       "      <td>1.434655</td>\n",
       "      <td>1.243618</td>\n",
       "      <td>0.443906</td>\n",
       "      <td>SIRA</td>\n",
       "    </tr>\n",
       "    <tr>\n",
       "      <th>10065</th>\n",
       "      <td>-1.582185</td>\n",
       "      <td>-1.707692</td>\n",
       "      <td>-1.680206</td>\n",
       "      <td>-1.731764</td>\n",
       "      <td>-1.191122</td>\n",
       "      <td>-1.437289</td>\n",
       "      <td>-1.573196</td>\n",
       "      <td>-1.863391</td>\n",
       "      <td>0.834208</td>\n",
       "      <td>-0.061039</td>\n",
       "      <td>0.985662</td>\n",
       "      <td>1.275378</td>\n",
       "      <td>2.223125</td>\n",
       "      <td>2.657385</td>\n",
       "      <td>1.304625</td>\n",
       "      <td>0.815169</td>\n",
       "      <td>DERMASON</td>\n",
       "    </tr>\n",
       "    <tr>\n",
       "      <th>10067</th>\n",
       "      <td>-1.575379</td>\n",
       "      <td>-1.708729</td>\n",
       "      <td>-1.675673</td>\n",
       "      <td>-1.707748</td>\n",
       "      <td>-1.210134</td>\n",
       "      <td>-1.477621</td>\n",
       "      <td>-1.565848</td>\n",
       "      <td>-1.852738</td>\n",
       "      <td>0.200126</td>\n",
       "      <td>-0.211492</td>\n",
       "      <td>1.097403</td>\n",
       "      <td>1.291714</td>\n",
       "      <td>2.187842</td>\n",
       "      <td>2.659077</td>\n",
       "      <td>1.322616</td>\n",
       "      <td>0.434384</td>\n",
       "      <td>DERMASON</td>\n",
       "    </tr>\n",
       "  </tbody>\n",
       "</table>\n",
       "</div>"
      ],
      "text/plain": [
       "           Area  Perimeter  ...  ShapeFactor4     Class\n",
       "0     -1.158101  -1.256001  ...      1.021155     SEKER\n",
       "2     -1.105722  -1.182876  ...      1.125032     SEKER\n",
       "2027  -0.461911  -0.167989  ...      0.647498  BARBUNYA\n",
       "2029  -0.433994  -0.200427  ...     -1.311908  BARBUNYA\n",
       "3349   2.587827   2.284462  ...     -0.612292    BOMBAY\n",
       "3351   2.587827   2.536361  ...      0.656715    BOMBAY\n",
       "3871  -0.248300  -0.286961  ...      1.059306      CALI\n",
       "3873  -0.095736  -0.119051  ...     -0.864691      CALI\n",
       "5501  -0.912903  -0.725751  ...     -0.899552     HOROZ\n",
       "5503  -0.891579  -0.748367  ...     -1.888533     HOROZ\n",
       "7429  -0.991977  -0.904900  ...      0.503089      SIRA\n",
       "7431  -0.920826  -0.950064  ...      0.443906      SIRA\n",
       "10065 -1.582185  -1.707692  ...      0.815169  DERMASON\n",
       "10067 -1.575379  -1.708729  ...      0.434384  DERMASON\n",
       "\n",
       "[14 rows x 17 columns]"
      ]
     },
     "execution_count": 26,
     "metadata": {
      "tags": []
     },
     "output_type": "execute_result"
    }
   ],
   "source": [
    "data_uji"
   ]
  },
  {
   "cell_type": "markdown",
   "metadata": {
    "id": "GmWLILeqWdE-"
   },
   "source": [
    "Memisahkan label atau kelas dari data uji menjadi variabel tersendiri. Proses ini dilakukan untuk kebutuhan pada proses evaluasi"
   ]
  },
  {
   "cell_type": "code",
   "execution_count": 27,
   "metadata": {
    "colab": {
     "base_uri": "https://localhost:8080/"
    },
    "id": "xHXtef8L_QIT",
    "outputId": "e2ab324b-1aa5-46e5-e35d-d7776bdd6305"
   },
   "outputs": [
    {
     "name": "stdout",
     "output_type": "stream",
     "text": [
      "140276755266256\n",
      "140276493567760\n",
      "140276756154448\n",
      "140276492796240\n"
     ]
    }
   ],
   "source": [
    "# backup data_uji dan data_latih sebelum dipop / dipisahkan label kelasnya\n",
    "data_latih_full = data_latih.copy()\n",
    "data_uji_full = data_uji.copy()\n",
    "\n",
    "print(id(data_latih))\n",
    "print(id(data_latih_full))\n",
    "print(id(data_uji))\n",
    "print(id(data_uji_full))"
   ]
  },
  {
   "cell_type": "code",
   "execution_count": 28,
   "metadata": {
    "id": "k43G9KuUWf0m"
   },
   "outputs": [],
   "source": [
    "label_uji = data_uji.pop('Class')\n",
    "label_latih = data_latih.pop('Class')"
   ]
  },
  {
   "cell_type": "markdown",
   "metadata": {
    "id": "Rmfnohw4BHS1"
   },
   "source": [
    "# **4. Modelling Naive Bayes**\n",
    "\n",
    "Menjalankan Klasifikasi Naive Bayes dengan model Gaussian\n"
   ]
  },
  {
   "cell_type": "markdown",
   "metadata": {
    "id": "yebgRxVphMQD"
   },
   "source": [
    "## 4.1 Menghitung Prior\n",
    "\n",
    "Prior merupakan peluang awal munculnya suatu kelas. Singkatnya, prior adalah hasil pembagian frekuensi dari suatu kelas terhadap keseluruhan data"
   ]
  },
  {
   "cell_type": "markdown",
   "metadata": {
    "id": "AZPa6IV4JdMk"
   },
   "source": [
    "Membuat fungsi hitung_prior untuk menghitung nilai prior masing-masing kelas unik pada data latih"
   ]
  },
  {
   "cell_type": "code",
   "execution_count": 29,
   "metadata": {
    "id": "W3WnOrJlipAd"
   },
   "outputs": [],
   "source": [
    "from collections import Counter\n",
    "def hitung_prior(daftar_kelas):\n",
    "  # menhitung prior setiap kelas yang ada (7 kelas)\n",
    "  prior = Counter(daftar_kelas)\n",
    "  # menghitung keseluruhan jumlah data yang ada\n",
    "  jumlah_data = len(daftar_kelas)\n",
    "  \n",
    "  for kelas in prior.keys():\n",
    "    prior[kelas] = prior[kelas]/jumlah_data\n",
    "  return prior"
   ]
  },
  {
   "cell_type": "markdown",
   "metadata": {
    "id": "hux4T3H0J0ef"
   },
   "source": [
    "Menguji fungsi hitung_prior dengan setiap kelas pada data_latih (label_latih)"
   ]
  },
  {
   "cell_type": "code",
   "execution_count": 30,
   "metadata": {
    "colab": {
     "base_uri": "https://localhost:8080/"
    },
    "id": "jOR1SA90jD37",
    "outputId": "f7ad0c70-e0a4-4406-e114-649fccc813fc"
   },
   "outputs": [
    {
     "data": {
      "text/plain": [
       "Counter({'BARBUNYA': 0.09708023828785761,\n",
       "         'BOMBAY': 0.03824373023461058,\n",
       "         'CALI': 0.11973229388835772,\n",
       "         'DERMASON': 0.2607928219460175,\n",
       "         'HOROZ': 0.14164889313819226,\n",
       "         'SEKER': 0.14878281973964846,\n",
       "         'SIRA': 0.19371920276531587})"
      ]
     },
     "execution_count": 30,
     "metadata": {
      "tags": []
     },
     "output_type": "execute_result"
    }
   ],
   "source": [
    "prior = hitung_prior(label_latih)\n",
    "prior"
   ]
  },
  {
   "cell_type": "markdown",
   "metadata": {
    "id": "qYhMWmzdhh3d"
   },
   "source": [
    "## 4.2 Menghitung *likelihood*\n",
    "\n",
    "Likelihood disebut juga conditional probability merupakan frekuensi kemungkinan suatu peristiwa (fitur) pada peristiwa lain (kelas)"
   ]
  },
  {
   "cell_type": "markdown",
   "metadata": {
    "id": "73KTxLCIPKCR"
   },
   "source": [
    "Membuat fungsi hitung_mean_std_kelas untuk mendapatkan rata-rata dan standar desviasi masing-masing fitur per kelas"
   ]
  },
  {
   "cell_type": "code",
   "execution_count": 31,
   "metadata": {
    "id": "KYHPWVfgjHUF"
   },
   "outputs": [],
   "source": [
    "def hitung_mean_std_kelas(input_data, label_data):\n",
    "  # mendapatkan nama setiap kolom\n",
    "  daftar_kolom = input_data.columns\n",
    "\n",
    "  # mendapatkan nama-nama kelas yang unik\n",
    "  daftar_kelas = np.unique(label_data)\n",
    "\n",
    "  # membuat list kosong untuk menyimpan hasil perhitungan 2 dimensi\n",
    "  mean = {}\n",
    "  std = {}\n",
    "  for kolom in daftar_kolom:\n",
    "    for kelas in daftar_kelas:\n",
    "      mean[(kelas,kolom)] = input_data.loc[label_data==kelas][kolom].mean()\n",
    "      std[(kelas,kolom)] = input_data.loc[label_data==kelas][kolom].std()\n",
    "  return(mean,std)"
   ]
  },
  {
   "cell_type": "markdown",
   "metadata": {
    "id": "IjZvV82oPe6M"
   },
   "source": [
    "Membuat fungsi hitung_likelihood_gaussian yang berfungsi untuk menghitung nilai likelihood suatu nilai terhdap rata-rata dan standar deviasi tertentu yang sudah didapatkan melalui fungsi hitung_rata2_std_kelas"
   ]
  },
  {
   "cell_type": "code",
   "execution_count": 32,
   "metadata": {
    "id": "vtYXxuF5jHyV"
   },
   "outputs": [],
   "source": [
    "import math\n",
    "def hitung_likelihood_gaussian(data, mean, std):\n",
    "  hasil = (1 / math.sqrt(2 * math.pi * pow(std, 2))) * math.exp((-1 * (pow(data-mean, 2)) / (2 * pow(std,2))))\n",
    "  return hasil"
   ]
  },
  {
   "cell_type": "markdown",
   "metadata": {
    "id": "X1o7HOljhn_p"
   },
   "source": [
    "## 4.3 Training Model \n",
    "\n",
    "Training Model adalah proses melatih data atau membuat model dari data_latih yang dimiliki untuk bahan prediksi machine learning"
   ]
  },
  {
   "cell_type": "markdown",
   "metadata": {
    "id": "DmBx7RCdQWkF"
   },
   "source": [
    "Membuat fungsi training_naive_bayes_gaussian untuk menghitung prior, rata-rata dan standar deviasi dari masing-masing fitur dan kelas yang ada pada data_latih"
   ]
  },
  {
   "cell_type": "code",
   "execution_count": 33,
   "metadata": {
    "id": "R0kFEeJzjJsF"
   },
   "outputs": [],
   "source": [
    "def training_naive_bayes_gaussian(data_latih, label_latih):\n",
    "  # hitung prior\n",
    "  prior = hitung_prior(label_latih)\n",
    "\n",
    "  # menghitung mean dan standar deviasi\n",
    "  (mean,std) = hitung_mean_std_kelas(data_latih, label_latih)\n",
    "\n",
    "  # mendapatkan nama kelas yang unik\n",
    "  daftar_kelas = np.unique(label_latih)\n",
    "\n",
    "  # mendapatkan nama setiap kolom\n",
    "  daftar_kolom = data_latih.columns\n",
    "\n",
    "  # memasukkan hasil ke dalam list model\n",
    "  model = {}\n",
    "  model['prior'] = prior\n",
    "  model['mean'] = mean\n",
    "  model['std'] = std\n",
    "  model['daftar_kelas'] = daftar_kelas\n",
    "  model['daftar_kolom'] = daftar_kolom\n",
    "\n",
    "  return model"
   ]
  },
  {
   "cell_type": "markdown",
   "metadata": {
    "id": "OMqiKoXORbHN"
   },
   "source": [
    "Melakukan proses training data atau pembuatan model data_latih"
   ]
  },
  {
   "cell_type": "code",
   "execution_count": 34,
   "metadata": {
    "id": "UZhnT8CEjLKm"
   },
   "outputs": [],
   "source": [
    "model_bayes = training_naive_bayes_gaussian(data_latih, label_latih)"
   ]
  },
  {
   "cell_type": "markdown",
   "metadata": {
    "id": "2pR9-IMNHfIf"
   },
   "source": [
    "Cek isi hasil modelling"
   ]
  },
  {
   "cell_type": "code",
   "execution_count": 35,
   "metadata": {
    "colab": {
     "base_uri": "https://localhost:8080/"
    },
    "id": "pUsU0yMwLKSZ",
    "outputId": "406519ac-4147-45b8-8682-140deeb5181b"
   },
   "outputs": [
    {
     "data": {
      "text/plain": [
       "{'daftar_kelas': array(['BARBUNYA', 'BOMBAY', 'CALI', 'DERMASON', 'HOROZ', 'SEKER', 'SIRA'],\n",
       "       dtype=object),\n",
       " 'daftar_kolom': Index(['Area', 'Perimeter', 'MajorAxisLength', 'MinorAxisLength',\n",
       "        'AspectRation', 'Eccentricity', 'ConvexArea', 'EquivDiameter', 'Extent',\n",
       "        'Solidity', 'roundness', 'Compactness', 'ShapeFactor1', 'ShapeFactor2',\n",
       "        'ShapeFactor3', 'ShapeFactor4'],\n",
       "       dtype='object'),\n",
       " 'mean': {('BARBUNYA', 'Area'): 1.0402502136168128,\n",
       "  ('BARBUNYA', 'AspectRation'): -0.15166878272537185,\n",
       "  ('BARBUNYA', 'Compactness'): 0.08509910292113243,\n",
       "  ('BARBUNYA', 'ConvexArea'): 1.0464401610558849,\n",
       "  ('BARBUNYA', 'Eccentricity'): 0.00719253102334298,\n",
       "  ('BARBUNYA', 'EquivDiameter'): 1.0073571059419737,\n",
       "  ('BARBUNYA', 'Extent'): -0.017093647210213357,\n",
       "  ('BARBUNYA', 'MajorAxisLength'): 0.6391348563003091,\n",
       "  ('BARBUNYA', 'MinorAxisLength'): 1.2647724578704531,\n",
       "  ('BARBUNYA', 'Perimeter'): 1.0482726995858256,\n",
       "  ('BARBUNYA', 'ShapeFactor1'): -1.1239557487966993,\n",
       "  ('BARBUNYA', 'ShapeFactor2'): -0.5395033216642902,\n",
       "  ('BARBUNYA', 'ShapeFactor3'): 0.06032887277571349,\n",
       "  ('BARBUNYA', 'ShapeFactor4'): 0.13429291655911402,\n",
       "  ('BARBUNYA', 'Solidity'): -1.1618286429520945,\n",
       "  ('BARBUNYA', 'roundness'): -1.2332113228888655,\n",
       "  ('BOMBAY', 'Area'): 2.5878271736098015,\n",
       "  ('BOMBAY', 'AspectRation'): 0.0177513237903416,\n",
       "  ('BOMBAY', 'Compactness'): -0.11487377361465104,\n",
       "  ('BOMBAY', 'ConvexArea'): 2.594434394093928,\n",
       "  ('BOMBAY', 'Eccentricity'): 0.19401030467921976,\n",
       "  ('BOMBAY', 'EquivDiameter'): 2.6712469611987393,\n",
       "  ('BOMBAY', 'Extent'): 0.5500499454241563,\n",
       "  ('BOMBAY', 'MajorAxisLength'): 2.9079847823551255,\n",
       "  ('BOMBAY', 'MinorAxisLength'): 2.450876418546005,\n",
       "  ('BOMBAY', 'Perimeter'): 2.8512641994728423,\n",
       "  ('BOMBAY', 'ShapeFactor1'): -2.5199214454648877,\n",
       "  ('BOMBAY', 'ShapeFactor2'): -1.4615202499306528,\n",
       "  ('BOMBAY', 'ShapeFactor3'): -0.14154957164528048,\n",
       "  ('BOMBAY', 'ShapeFactor4'): -0.8984422487662657,\n",
       "  ('BOMBAY', 'Solidity'): -0.03190021328133799,\n",
       "  ('BOMBAY', 'roundness'): -0.15382340493938843,\n",
       "  ('CALI', 'Area'): 1.3429706319884092,\n",
       "  ('CALI', 'AspectRation'): 0.6346576797237843,\n",
       "  ('CALI', 'Compactness'): -0.7006336411282501,\n",
       "  ('CALI', 'ConvexArea'): 1.33960060027552,\n",
       "  ('CALI', 'Eccentricity'): 0.7276807462493144,\n",
       "  ('CALI', 'EquivDiameter'): 1.2658424307152818,\n",
       "  ('CALI', 'Extent'): 0.18397179986678444,\n",
       "  ('CALI', 'MajorAxisLength'): 1.1308158173327814,\n",
       "  ('CALI', 'MinorAxisLength'): 1.152002989083804,\n",
       "  ('CALI', 'Perimeter'): 1.1099639893551148,\n",
       "  ('CALI', 'ShapeFactor1'): -1.0309084609238996,\n",
       "  ('CALI', 'ShapeFactor2'): -1.0209670368738635,\n",
       "  ('CALI', 'ShapeFactor3'): -0.7156322058046974,\n",
       "  ('CALI', 'ShapeFactor4'): -1.2275309811491029,\n",
       "  ('CALI', 'Solidity'): -0.4904691868654693,\n",
       "  ('CALI', 'roundness'): -0.4725357452971866,\n",
       "  ('DERMASON', 'Area'): -0.9600862775098087,\n",
       "  ('DERMASON', 'AspectRation'): -0.37528278641258844,\n",
       "  ('DERMASON', 'Compactness'): 0.3141341764476115,\n",
       "  ('DERMASON', 'ConvexArea'): -0.9575586431068022,\n",
       "  ('DERMASON', 'Eccentricity'): -0.21136207056380454,\n",
       "  ('DERMASON', 'EquivDiameter'): -1.0095445656263848,\n",
       "  ('DERMASON', 'Extent'): 0.060142678128144,\n",
       "  ('DERMASON', 'MajorAxisLength'): -0.8964833609818886,\n",
       "  ('DERMASON', 'MinorAxisLength'): -1.005613236320345,\n",
       "  ('DERMASON', 'Perimeter'): -0.9653911271077659,\n",
       "  ('DERMASON', 'ShapeFactor1'): 1.0823221600185453,\n",
       "  ('DERMASON', 'ShapeFactor2'): 0.7465439782841025,\n",
       "  ('DERMASON', 'ShapeFactor3'): 0.2892456623970284,\n",
       "  ('DERMASON', 'ShapeFactor4'): 0.4756048063621873,\n",
       "  ('DERMASON', 'Solidity'): 0.2447195837399999,\n",
       "  ('DERMASON', 'roundness'): 0.593101731486421,\n",
       "  ('HOROZ', 'Area'): 0.18372999252239158,\n",
       "  ('HOROZ', 'AspectRation'): 1.7788449627883622,\n",
       "  ('HOROZ', 'Compactness'): -1.607652671867684,\n",
       "  ('HOROZ', 'ConvexArea'): 0.18470611079586174,\n",
       "  ('HOROZ', 'Eccentricity'): 1.3602800031017634,\n",
       "  ('HOROZ', 'EquivDiameter'): 0.2361978905908849,\n",
       "  ('HOROZ', 'Extent'): -0.8581509656404386,\n",
       "  ('HOROZ', 'MajorAxisLength'): 0.6714320315799407,\n",
       "  ('HOROZ', 'MinorAxisLength'): -0.44113308622567543,\n",
       "  ('HOROZ', 'Perimeter'): 0.3812443761098985,\n",
       "  ('HOROZ', 'ShapeFactor1'): 0.39543837567053963,\n",
       "  ('HOROZ', 'ShapeFactor2'): -1.1215132513295187,\n",
       "  ('HOROZ', 'ShapeFactor3'): -1.5433321540397815,\n",
       "  ('HOROZ', 'ShapeFactor4'): -0.6885958125242089,\n",
       "  ('HOROZ', 'Solidity'): -0.3141744021852167,\n",
       "  ('HOROZ', 'roundness'): -1.338746795693288,\n",
       "  ('SEKER', 'Area'): -0.5477739951848963,\n",
       "  ('SEKER', 'AspectRation'): -1.3934740450959135,\n",
       "  ('SEKER', 'Compactness'): 1.5689305487538652,\n",
       "  ('SEKER', 'ConvexArea'): -0.5530911753037748,\n",
       "  ('SEKER', 'Eccentricity'): -1.7675876211990371,\n",
       "  ('SEKER', 'EquivDiameter'): -0.518709643068044,\n",
       "  ('SEKER', 'Extent'): 0.4490257128153789,\n",
       "  ('SEKER', 'MajorAxisLength'): -0.8376887236164888,\n",
       "  ('SEKER', 'MinorAxisLength'): 0.10114475029057084,\n",
       "  ('SEKER', 'Perimeter'): -0.6352379324033742,\n",
       "  ('SEKER', 'ShapeFactor1'): -0.22476810686181808,\n",
       "  ('SEKER', 'ShapeFactor2'): 1.383578021522005,\n",
       "  ('SEKER', 'ShapeFactor3'): 1.6260255105492436,\n",
       "  ('SEKER', 'ShapeFactor4'): 0.9236541676214868,\n",
       "  ('SEKER', 'Solidity'): 0.8302343813430905,\n",
       "  ('SEKER', 'roundness'): 1.2146763176224242,\n",
       "  ('SIRA', 'Area'): -0.29000969852351854,\n",
       "  ('SIRA', 'AspectRation'): -0.04538375885987037,\n",
       "  ('SIRA', 'Compactness'): -0.039120226514915805,\n",
       "  ('SIRA', 'ConvexArea'): -0.29239183315602707,\n",
       "  ('SIRA', 'Eccentricity'): 0.1559387873829082,\n",
       "  ('SIRA', 'EquivDiameter'): -0.23619495496204343,\n",
       "  ('SIRA', 'Extent'): -0.01241679941419409,\n",
       "  ('SIRA', 'MajorAxisLength'): -0.2394990952148024,\n",
       "  ('SIRA', 'MinorAxisLength'): -0.23781601444028316,\n",
       "  ('SIRA', 'Perimeter'): -0.2715736310103238,\n",
       "  ('SIRA', 'ShapeFactor1'): 0.13034179814539654,\n",
       "  ('SIRA', 'ShapeFactor2'): -0.05528447612693569,\n",
       "  ('SIRA', 'ShapeFactor3'): -0.06959480381630455,\n",
       "  ('SIRA', 'ShapeFactor4'): 0.024675181069980463,\n",
       "  ('SIRA', 'Solidity'): 0.15685148947303576,\n",
       "  ('SIRA', 'roundness'): 0.19018136936614746},\n",
       " 'prior': Counter({'BARBUNYA': 0.09708023828785761,\n",
       "          'BOMBAY': 0.03824373023461058,\n",
       "          'CALI': 0.11973229388835772,\n",
       "          'DERMASON': 0.2607928219460175,\n",
       "          'HOROZ': 0.14164889313819226,\n",
       "          'SEKER': 0.14878281973964846,\n",
       "          'SIRA': 0.19371920276531587}),\n",
       " 'std': {('BARBUNYA', 'Area'): 0.5384913049921589,\n",
       "  ('BARBUNYA', 'AspectRation'): 0.5237947100504362,\n",
       "  ('BARBUNYA', 'Compactness'): 0.5441643252883436,\n",
       "  ('BARBUNYA', 'ConvexArea'): 0.5369710252142543,\n",
       "  ('BARBUNYA', 'Eccentricity'): 0.5904838577983315,\n",
       "  ('BARBUNYA', 'EquivDiameter'): 0.4613750650539266,\n",
       "  ('BARBUNYA', 'Extent'): 0.8407205721478008,\n",
       "  ('BARBUNYA', 'MajorAxisLength'): 0.3997274038646858,\n",
       "  ('BARBUNYA', 'MinorAxisLength'): 0.5844892193208929,\n",
       "  ('BARBUNYA', 'Perimeter'): 0.4720965804442328,\n",
       "  ('BARBUNYA', 'ShapeFactor1'): 0.4087525914424437,\n",
       "  ('BARBUNYA', 'ShapeFactor2'): 0.3578314963733953,\n",
       "  ('BARBUNYA', 'ShapeFactor3'): 0.5535780405153539,\n",
       "  ('BARBUNYA', 'ShapeFactor4'): 0.7201592711670862,\n",
       "  ('BARBUNYA', 'Solidity'): 0.8673419905766857,\n",
       "  ('BARBUNYA', 'roundness'): 0.777251780715317,\n",
       "  ('BOMBAY', 'Area'): 6.223235698014898e-15,\n",
       "  ('BOMBAY', 'AspectRation'): 0.4930107354108904,\n",
       "  ('BOMBAY', 'Compactness'): 0.5002604225298642,\n",
       "  ('BOMBAY', 'ConvexArea'): 1.2001954560457304e-14,\n",
       "  ('BOMBAY', 'Eccentricity'): 0.4938244623617707,\n",
       "  ('BOMBAY', 'EquivDiameter'): 2.6671010134349565e-15,\n",
       "  ('BOMBAY', 'Extent'): 0.806500570448059,\n",
       "  ('BOMBAY', 'MajorAxisLength'): 0.23723078083105312,\n",
       "  ('BOMBAY', 'MinorAxisLength'): 5.778718862442405e-15,\n",
       "  ('BOMBAY', 'Perimeter'): 0.04626852709204932,\n",
       "  ('BOMBAY', 'ShapeFactor1'): 0.009097567960944906,\n",
       "  ('BOMBAY', 'ShapeFactor2'): 0.22556589960532467,\n",
       "  ('BOMBAY', 'ShapeFactor3'): 0.49964452830403433,\n",
       "  ('BOMBAY', 'ShapeFactor4'): 0.9807513591858996,\n",
       "  ('BOMBAY', 'Solidity'): 1.1047604871082888,\n",
       "  ('BOMBAY', 'roundness'): 0.45415367954521674,\n",
       "  ('CALI', 'Area'): 0.48394495351305733,\n",
       "  ('CALI', 'AspectRation'): 0.3801818517359614,\n",
       "  ('CALI', 'Compactness'): 0.33455688800560757,\n",
       "  ('CALI', 'ConvexArea'): 0.4822008581963047,\n",
       "  ('CALI', 'Eccentricity'): 0.2746589372902538,\n",
       "  ('CALI', 'EquivDiameter'): 0.4010723394390604,\n",
       "  ('CALI', 'Extent'): 0.8727198786116759,\n",
       "  ('CALI', 'MajorAxisLength'): 0.3661690193115983,\n",
       "  ('CALI', 'MinorAxisLength'): 0.44297871670442485,\n",
       "  ('CALI', 'Perimeter'): 0.3563041173193573,\n",
       "  ('CALI', 'ShapeFactor1'): 0.30938397451078276,\n",
       "  ('CALI', 'ShapeFactor2'): 0.2172106311150272,\n",
       "  ('CALI', 'ShapeFactor3'): 0.3195862909368706,\n",
       "  ('CALI', 'ShapeFactor4'): 0.9421304382015522,\n",
       "  ('CALI', 'Solidity'): 1.2330594068376532,\n",
       "  ('CALI', 'roundness'): 0.40141817335778973,\n",
       "  ('DERMASON', 'Area'): 0.24866126245679662,\n",
       "  ('DERMASON', 'AspectRation'): 0.40019172443080586,\n",
       "  ('DERMASON', 'Compactness'): 0.42868331342272353,\n",
       "  ('DERMASON', 'ConvexArea'): 0.24547215497684702,\n",
       "  ('DERMASON', 'Eccentricity'): 0.48214662343109543,\n",
       "  ('DERMASON', 'EquivDiameter'): 0.3121101791037903,\n",
       "  ('DERMASON', 'Extent'): 0.7795830474820296,\n",
       "  ('DERMASON', 'MajorAxisLength'): 0.2572430146154902,\n",
       "  ('DERMASON', 'MinorAxisLength'): 0.38337352450020584,\n",
       "  ('DERMASON', 'Perimeter'): 0.26705679448062514,\n",
       "  ('DERMASON', 'ShapeFactor1'): 0.5458853560968949,\n",
       "  ('DERMASON', 'ShapeFactor2'): 0.47627077117069455,\n",
       "  ('DERMASON', 'ShapeFactor3'): 0.4400908357755154,\n",
       "  ('DERMASON', 'ShapeFactor4'): 0.550037095452941,\n",
       "  ('DERMASON', 'Solidity'): 0.6574833313364332,\n",
       "  ('DERMASON', 'roundness'): 0.47878468156908843,\n",
       "  ('HOROZ', 'Area'): 0.38918354583441295,\n",
       "  ('HOROZ', 'AspectRation'): 0.47221988931523246,\n",
       "  ('HOROZ', 'Compactness'): 0.38290324165725875,\n",
       "  ('HOROZ', 'ConvexArea'): 0.3870692206355171,\n",
       "  ('HOROZ', 'Eccentricity'): 0.25329791006943114,\n",
       "  ('HOROZ', 'EquivDiameter'): 0.38086007075298456,\n",
       "  ('HOROZ', 'Extent'): 1.4973698913883513,\n",
       "  ('HOROZ', 'MajorAxisLength'): 0.37560848601068836,\n",
       "  ('HOROZ', 'MinorAxisLength'): 0.41070991504004184,\n",
       "  ('HOROZ', 'Perimeter'): 0.3698280026869752,\n",
       "  ('HOROZ', 'ShapeFactor1'): 0.46580140590048785,\n",
       "  ('HOROZ', 'ShapeFactor2'): 0.25088640834076775,\n",
       "  ('HOROZ', 'ShapeFactor3'): 0.34264904216781916,\n",
       "  ('HOROZ', 'ShapeFactor4'): 1.0113149452234453,\n",
       "  ('HOROZ', 'Solidity'): 0.9371903303117305,\n",
       "  ('HOROZ', 'roundness'): 0.48036342293774537,\n",
       "  ('SEKER', 'Area'): 0.25141849994612364,\n",
       "  ('SEKER', 'AspectRation'): 0.34145302501031033,\n",
       "  ('SEKER', 'Compactness'): 0.4500141147212174,\n",
       "  ('SEKER', 'ConvexArea'): 0.24864446759984032,\n",
       "  ('SEKER', 'Eccentricity'): 0.514198136802882,\n",
       "  ('SEKER', 'EquivDiameter'): 0.27790184689201647,\n",
       "  ('SEKER', 'Extent'): 0.39163007163512,\n",
       "  ('SEKER', 'MajorAxisLength'): 0.24708568245330345,\n",
       "  ('SEKER', 'MinorAxisLength'): 0.33083902171311225,\n",
       "  ('SEKER', 'Perimeter'): 0.25114924175468023,\n",
       "  ('SEKER', 'ShapeFactor1'): 0.3057657571634585,\n",
       "  ('SEKER', 'ShapeFactor2'): 0.5449610611132238,\n",
       "  ('SEKER', 'ShapeFactor3'): 0.48028483908117725,\n",
       "  ('SEKER', 'ShapeFactor4'): 0.3068873592065635,\n",
       "  ('SEKER', 'Solidity'): 0.6448240760513524,\n",
       "  ('SEKER', 'roundness'): 0.5361560140454967,\n",
       "  ('SIRA', 'Area'): 0.24118036267828047,\n",
       "  ('SIRA', 'AspectRation'): 0.4004781686540736,\n",
       "  ('SIRA', 'Compactness'): 0.3977232562900858,\n",
       "  ('SIRA', 'ConvexArea'): 0.2388485441205741,\n",
       "  ('SIRA', 'Eccentricity'): 0.3933568348688181,\n",
       "  ('SIRA', 'EquivDiameter'): 0.25562861624699906,\n",
       "  ('SIRA', 'Extent'): 0.9242144193408437,\n",
       "  ('SIRA', 'MajorAxisLength'): 0.257708248111669,\n",
       "  ('SIRA', 'MinorAxisLength'): 0.2796461149042081,\n",
       "  ('SIRA', 'Perimeter'): 0.23422389910915584,\n",
       "  ('SIRA', 'ShapeFactor1'): 0.3006722405017716,\n",
       "  ('SIRA', 'ShapeFactor2'): 0.3422264104402657,\n",
       "  ('SIRA', 'ShapeFactor3'): 0.39714273756959845,\n",
       "  ('SIRA', 'ShapeFactor4'): 0.7265894116054736,\n",
       "  ('SIRA', 'Solidity'): 0.7256070246030829,\n",
       "  ('SIRA', 'roundness'): 0.40303363594547914}}"
      ]
     },
     "execution_count": 35,
     "metadata": {
      "tags": []
     },
     "output_type": "execute_result"
    }
   ],
   "source": [
    "model_bayes"
   ]
  },
  {
   "cell_type": "markdown",
   "metadata": {
    "id": "92FuaEDNjM_z"
   },
   "source": [
    "## 4.4 Testing\n",
    "\n",
    "Testing disebut juga dengan tahap evaluasi model yang tleah dibuat sebelumnya. Pada tahap ini, model akan diuji dengan data_uji yang sudah ditentukan. Hasil evaluasi adalah prediksi kelas dari data_uji, sekaligus membandingkannya dengan label data_uji yang sebenarnya untuk mendapatkan akurasi model"
   ]
  },
  {
   "cell_type": "markdown",
   "metadata": {
    "id": "SoBFZlKVRguL"
   },
   "source": [
    "Membuat fungsi testing_naive_bayes_gaussian untuk menghitung nilai posterior dari data uji berdasarkan model yang diperoleh pada proses training sebelumnya. Nilai posterior ini dihitung untuk menentukan probabilitas suatu peristiwa (gabungan fitur) akan tergolong pada kelas mana. Hal tersebut ditentukan dengan membandingkan nilai posterior yang didapatkan. Nilai posterior terbesarlah yang merupakan kelas hasil prediksi"
   ]
  },
  {
   "cell_type": "code",
   "execution_count": 36,
   "metadata": {
    "id": "fKhOXs6LjO_1"
   },
   "outputs": [],
   "source": [
    "def testing_naive_bayes_gaussian(model,data_uji):\n",
    "  # jabarkan isi model ke beberapa variabel\n",
    "  prior = model['prior']\n",
    "  mean = model['mean']\n",
    "  std = model['std']\n",
    "  daftar_kelas = model['daftar_kelas']\n",
    "  daftar_kolom = model['daftar_kolom']\n",
    "\n",
    "  # menghitung posterior masing-masing kategori\n",
    "  posterior = dict.fromkeys(daftar_kelas,1)\n",
    "  for kelas in daftar_kelas:\n",
    "    for kolom in daftar_kolom:\n",
    "      posterior[kelas] = posterior[kelas] * hitung_likelihood_gaussian(data_uji[kolom], mean[(kelas,kolom)], std[(kelas,kolom)])\n",
    "    posterior[kelas] = posterior[kelas] * prior[kelas]\n",
    "\n",
    "  # mengambil hasil dengan nilai posterior terbesar\n",
    "  kelas_uji = max(posterior,key=posterior.get)\n",
    "  return kelas_uji"
   ]
  },
  {
   "cell_type": "markdown",
   "metadata": {
    "id": "XjwWyd5GSK8l"
   },
   "source": [
    "Melakukan pengujian 1 baris data menggunakan fungsi testing_naive_bayes_gaussian yang dibuat sebelumnya. Kemudian membandingkan hasil prediksi dengan label data_uji sebenarnya"
   ]
  },
  {
   "cell_type": "code",
   "execution_count": 37,
   "metadata": {
    "colab": {
     "base_uri": "https://localhost:8080/"
    },
    "id": "tIGnHETCjQIM",
    "outputId": "fdaadf18-d586-4ad5-a467-0c5d7ab73f17"
   },
   "outputs": [
    {
     "name": "stdout",
     "output_type": "stream",
     "text": [
      "SEKER\n",
      "SEKER\n"
     ]
    }
   ],
   "source": [
    "uji_prediksi_bayes = testing_naive_bayes_gaussian(model_bayes,data_uji.iloc[0])\n",
    "print(uji_prediksi_bayes)\n",
    "print(label_uji.iloc[0])"
   ]
  },
  {
   "cell_type": "markdown",
   "metadata": {
    "id": "GrYR_JH4ScRV"
   },
   "source": [
    "Melakukan pengujian semua data_uji yang dimiliki. Hasil pengujian akan dibandingkan dengan label data_uji sebenarnya. Kemudian hasil perbandingan akan dijadikan dalam bentuk persentase untuk melihat besar akurasi dari hasil klasifikasi Naive Bayes"
   ]
  },
  {
   "cell_type": "code",
   "execution_count": 38,
   "metadata": {
    "colab": {
     "base_uri": "https://localhost:8080/"
    },
    "id": "Dvk4uu4KjTO_",
    "outputId": "7109f29d-6cd6-49b1-a2a1-2997c7a4cdfe"
   },
   "outputs": [
    {
     "name": "stdout",
     "output_type": "stream",
     "text": [
      "Indeks ke 0 ; Data sebenarnya = SEKER ; Hasil prediksi = SEKER\n",
      "Indeks ke 1 ; Data sebenarnya = SEKER ; Hasil prediksi = SEKER\n",
      "Indeks ke 2 ; Data sebenarnya = BARBUNYA ; Hasil prediksi = SIRA\n",
      "Indeks ke 3 ; Data sebenarnya = BARBUNYA ; Hasil prediksi = SIRA\n",
      "Indeks ke 4 ; Data sebenarnya = BOMBAY ; Hasil prediksi = BOMBAY\n",
      "Indeks ke 5 ; Data sebenarnya = BOMBAY ; Hasil prediksi = BOMBAY\n",
      "Indeks ke 6 ; Data sebenarnya = CALI ; Hasil prediksi = SIRA\n",
      "Indeks ke 7 ; Data sebenarnya = CALI ; Hasil prediksi = SIRA\n",
      "Indeks ke 8 ; Data sebenarnya = HOROZ ; Hasil prediksi = HOROZ\n",
      "Indeks ke 9 ; Data sebenarnya = HOROZ ; Hasil prediksi = DERMASON\n",
      "Indeks ke 10 ; Data sebenarnya = SIRA ; Hasil prediksi = DERMASON\n",
      "Indeks ke 11 ; Data sebenarnya = SIRA ; Hasil prediksi = SEKER\n",
      "Indeks ke 12 ; Data sebenarnya = DERMASON ; Hasil prediksi = DERMASON\n",
      "Indeks ke 13 ; Data sebenarnya = DERMASON ; Hasil prediksi = DERMASON\n",
      "Total prediksi benar:  7\n"
     ]
    }
   ],
   "source": [
    "prediksi_total_bayes=[]\n",
    "# iterasi untuk mengambil prediksi setiap data_uji\n",
    "for indeks in range(data_uji.shape[0]):\n",
    "  hasil_iterasi_bayes = testing_naive_bayes_gaussian(model_bayes, data_uji.iloc[indeks])\n",
    "  prediksi_total_bayes.append(hasil_iterasi_bayes)\n",
    "  print(\"Indeks ke\", indeks,\"; Data sebenarnya =\", label_uji.iloc[indeks], \"; Hasil prediksi =\", hasil_iterasi_bayes)\n",
    "\n",
    "prediksi_benar_bayes = sum(prediksi_total_bayes==label_uji)\n",
    "print(\"Total prediksi benar: \", prediksi_benar_bayes)"
   ]
  },
  {
   "cell_type": "markdown",
   "metadata": {
    "id": "zVL5mTUnIPH2"
   },
   "source": [
    "Membuat fungsi cetak_akurasi agar hasil akurasi model lainnya dapat dilihat dengan mudah"
   ]
  },
  {
   "cell_type": "code",
   "execution_count": 39,
   "metadata": {
    "id": "ulkyiJnkNeI7"
   },
   "outputs": [],
   "source": [
    "def cetak_akurasi(prediksi, data_sebenarnya):\n",
    "  print(\"Total prediksi benar:\", prediksi)\n",
    "  print(\"Total data uji:\", data_sebenarnya)\n",
    "\n",
    "  akurasi = (prediksi / data_sebenarnya) * 100\n",
    "  print(\"Akurasi :\", akurasi, \"%\")"
   ]
  },
  {
   "cell_type": "markdown",
   "metadata": {
    "id": "IYsu15cgIWFB"
   },
   "source": [
    "Hasil akurasi Naive Bayes menggunakan Model Gaussian"
   ]
  },
  {
   "cell_type": "code",
   "execution_count": 40,
   "metadata": {
    "colab": {
     "base_uri": "https://localhost:8080/"
    },
    "id": "nDy-g0euORnT",
    "outputId": "e3aafde9-88fe-447b-bbcd-86ebb3d137c0"
   },
   "outputs": [
    {
     "name": "stdout",
     "output_type": "stream",
     "text": [
      "Total prediksi benar: 7\n",
      "Total data uji: 14\n",
      "Akurasi : 50.0 %\n"
     ]
    }
   ],
   "source": [
    "cetak_akurasi(prediksi_benar_bayes, data_uji.shape[0])"
   ]
  },
  {
   "cell_type": "markdown",
   "metadata": {
    "id": "M0_cvbQzLP5V"
   },
   "source": [
    "# **5. Modelling k-Nearest Neighbors**\n",
    "\n",
    "Menjalankan Klasifikasi KNN dengan metode perhitungan Jarak Euclidean Distance dan jumlah tetangga k=3, k=7, dan k=11"
   ]
  },
  {
   "cell_type": "markdown",
   "metadata": {
    "id": "WvDJ347cReyX"
   },
   "source": [
    "## 5.1 Menghitung Jarak Euclidean\n",
    "\n",
    "Jarak Euclidean merupakan hasil perhitungan jarak dua vektor data berdasarkan panjang garis lurus yang menghubungkan dua vektor (pada fisika, seperti perpindahan). Perhitungan dilakukan dengan menghitung akar dari jumlah kuadrat selisih dua vektor "
   ]
  },
  {
   "cell_type": "markdown",
   "metadata": {
    "id": "6KKGGQrlK799"
   },
   "source": [
    "Membuat fungsi jarakEuclidean untuk menghitung jarak euclidean"
   ]
  },
  {
   "cell_type": "code",
   "execution_count": 41,
   "metadata": {
    "id": "bbRepIbcRgFy"
   },
   "outputs": [],
   "source": [
    "def jarakEuclidean(data_latih, data_uji):\n",
    "  jarak =  np.square(data_latih - data_uji)\n",
    "  jarak = np.sum(jarak)\n",
    "  return np.sqrt(jarak)"
   ]
  },
  {
   "cell_type": "markdown",
   "metadata": {
    "id": "wHFhyVfTKswB"
   },
   "source": [
    "Uji fungsi jarakEuclidean"
   ]
  },
  {
   "cell_type": "code",
   "execution_count": 42,
   "metadata": {
    "colab": {
     "base_uri": "https://localhost:8080/"
    },
    "id": "NwaOtzYuR1mR",
    "outputId": "7135e144-b21e-4a57-b89d-b525fb768c3e"
   },
   "outputs": [
    {
     "name": "stdout",
     "output_type": "stream",
     "text": [
      "3.4197404275087457\n"
     ]
    }
   ],
   "source": [
    "jarak = jarakEuclidean(data_latih.iloc[1], data_uji.iloc[1])\n",
    "print(jarak)"
   ]
  },
  {
   "cell_type": "markdown",
   "metadata": {
    "id": "kiMszfV3R2S8"
   },
   "source": [
    "## 5.2 Prediksi KNN\n",
    "\n",
    "Prediksi KNN adalah proses memprediksi label / kelas dari data uji yang diberikan. KNN disebut juga lazy learner karena tidak membutuhkan model, hanya menghitung jarak / kedekatan data saja"
   ]
  },
  {
   "cell_type": "markdown",
   "metadata": {
    "id": "ovhuLVVHLURp"
   },
   "source": [
    "Membuat fungsi testing_knn untuk melakukan prediksi kelas dari data_uji yang diberikan. Fungsi testing_knn akan memanggil fungsi jarakEuclidean untuk mendapatkan jarak antar data"
   ]
  },
  {
   "cell_type": "code",
   "execution_count": 43,
   "metadata": {
    "id": "Fdg8jSNOrgug"
   },
   "outputs": [],
   "source": [
    "from collections import Counter\n",
    "def testing_knn(k3, k7, k11, data_latih, label_latih, data_uji):\n",
    "  # membuat list kosong untuk menyimpan hasil\n",
    "  daftar_prediksi_k3 = []\n",
    "  daftar_prediksi_k7 = []\n",
    "  daftar_prediksi_k11 = []\n",
    "\n",
    "  for uji in range(data_uji.shape[0]):\n",
    "    jarak = np.array([jarakEuclidean(data_latih.iloc[indeks], data_uji.iloc[uji]) for indeks in range (data_latih.shape[0])])\n",
    "    \n",
    "    # k3\n",
    "    indeks_k3_minimum = jarak.argsort()[:k3]\n",
    "    k3_kelas = label_latih.iloc[indeks_k3_minimum].to_numpy()\n",
    "    counter_k3 = Counter(k3_kelas)\n",
    "    hasil_prediksi_k3 = counter_k3.most_common(1)[0][0]\n",
    "\n",
    "    # k7\n",
    "    indeks_k7_minimum = jarak.argsort()[:k7]\n",
    "    k7_kelas = label_latih.iloc[indeks_k7_minimum].to_numpy()\n",
    "    counter_k7 = Counter(k7_kelas)\n",
    "    hasil_prediksi_k7 = counter_k7.most_common(1)[0][0]\n",
    "\n",
    "    # k11\n",
    "    indeks_k11_minimum = jarak.argsort()[:k11]\n",
    "    k11_kelas = label_latih.iloc[indeks_k11_minimum].to_numpy()\n",
    "    counter_k11 = Counter(k11_kelas)\n",
    "    hasil_prediksi_k11 = counter_k11.most_common(1)[0][0]\n",
    "\n",
    "    # masukkan ke list hasil prediksi\n",
    "    daftar_prediksi_k3.append(hasil_prediksi_k3)\n",
    "    daftar_prediksi_k7.append(hasil_prediksi_k7)\n",
    "    daftar_prediksi_k11.append(hasil_prediksi_k11)\n",
    "\n",
    "  return (daftar_prediksi_k3, daftar_prediksi_k7, daftar_prediksi_k11)"
   ]
  },
  {
   "cell_type": "markdown",
   "metadata": {
    "id": "RMlVPPFFdzCV"
   },
   "source": [
    "## 5.3 Pengujian KNN\n",
    "\n",
    "Pengujian KNN adalah proses mengevaluasi hasil prediksi label data dengan label data sebenarnya"
   ]
  },
  {
   "cell_type": "markdown",
   "metadata": {
    "id": "vM_mgYFbNhXA"
   },
   "source": [
    "Memprediksi semua label data menggunakan jumlah tetangga yang berbeda beda, yaitu 3, 7, dan 11"
   ]
  },
  {
   "cell_type": "code",
   "execution_count": 44,
   "metadata": {
    "id": "8VIPNEK0ri2l"
   },
   "outputs": [],
   "source": [
    "(prediksi_knn3, prediksi_knn7, prediksi_knn11) = testing_knn(3, 7, 11, data_latih, label_latih, data_uji)"
   ]
  },
  {
   "cell_type": "markdown",
   "metadata": {
    "id": "40oy2rsvNwn8"
   },
   "source": [
    "Menghitung jumlah label prediksi yang sama dengan label sebenarnya"
   ]
  },
  {
   "cell_type": "code",
   "execution_count": 45,
   "metadata": {
    "id": "alSiIN1AzSR0"
   },
   "outputs": [],
   "source": [
    "prediksi_benar_knn3 = sum(prediksi_knn3==label_uji)\n",
    "prediksi_benar_knn7 = sum(prediksi_knn7==label_uji)\n",
    "prediksi_benar_knn11 = sum(prediksi_knn11==label_uji)"
   ]
  },
  {
   "cell_type": "markdown",
   "metadata": {
    "id": "EdoYApT2N6zx"
   },
   "source": [
    "Hasil akurasi K-Nearest Neighbor"
   ]
  },
  {
   "cell_type": "code",
   "execution_count": 46,
   "metadata": {
    "colab": {
     "base_uri": "https://localhost:8080/"
    },
    "id": "UK38z_5YVKq6",
    "outputId": "c9942419-afd9-41c9-9a0a-15431d1bc945"
   },
   "outputs": [
    {
     "name": "stdout",
     "output_type": "stream",
     "text": [
      "K = 3\n",
      "Total prediksi benar: 11\n",
      "Total data uji: 14\n",
      "Akurasi : 78.57142857142857 %\n",
      "\n",
      "K = 7\n",
      "Total prediksi benar: 8\n",
      "Total data uji: 14\n",
      "Akurasi : 57.14285714285714 %\n",
      "\n",
      "K = 11\n",
      "Total prediksi benar: 8\n",
      "Total data uji: 14\n",
      "Akurasi : 57.14285714285714 %\n"
     ]
    }
   ],
   "source": [
    "print(\"K = 3\")\n",
    "cetak_akurasi(prediksi_benar_knn3, data_uji.shape[0])\n",
    "print()\n",
    "\n",
    "print(\"K = 7\")\n",
    "cetak_akurasi(prediksi_benar_knn7, data_uji.shape[0])\n",
    "print()\n",
    "\n",
    "print(\"K = 11\")\n",
    "cetak_akurasi(prediksi_benar_knn11, data_uji.shape[0])"
   ]
  },
  {
   "cell_type": "markdown",
   "metadata": {
    "id": "Lab_SaU0LbNL"
   },
   "source": [
    "# **6. Modelling Decision Tree**\n",
    "\n",
    "Menjalankan Klasifikasi Naive Bayes dengan metode Gain Ratio\n"
   ]
  },
  {
   "cell_type": "markdown",
   "metadata": {
    "id": "YHLiHQAXayDq"
   },
   "source": [
    "## 6.1 Menghitung Entropy"
   ]
  },
  {
   "cell_type": "markdown",
   "metadata": {
    "id": "JhCAeh32OP2p"
   },
   "source": [
    "Membuat fungsi hitung_entropy"
   ]
  },
  {
   "cell_type": "code",
   "execution_count": 56,
   "metadata": {
    "id": "ePlfQQRnjVVu"
   },
   "outputs": [],
   "source": [
    "#entropy digunakan untuk menghitung homogenitas pada node\n",
    "def hitung_entropy(kolom_kelas):\n",
    "  # mendapatkan element unik dan jumlah setiap elemen unik tersebut\n",
    "  elemen,banyak = np.unique(kolom_kelas,return_counts = True)\n",
    "\n",
    "  # menghitung entropy\n",
    "  entropy = -1 * (np.sum([(banyak[i]/np.sum(banyak)) * np.log2(banyak[i]/np.sum(banyak)) for i in range(len(elemen))]))\n",
    "\n",
    "  return entropy"
   ]
  },
  {
   "cell_type": "markdown",
   "metadata": {
    "id": "vLbjwXkw0988"
   },
   "source": [
    "## 6.2 Menghitung Gain Ratio Split\n",
    "\n",
    "Gain Ratio merupakan penyempurnaan dari information gain (gain split), sehingga gain_split masih digunakan dalam algoritma gain_ratio"
   ]
  },
  {
   "cell_type": "markdown",
   "metadata": {
    "id": "uDH5tgrsOULt"
   },
   "source": [
    "Membuat fungsi gain_ratio_split"
   ]
  },
  {
   "cell_type": "code",
   "execution_count": 57,
   "metadata": {
    "id": "5MlcMz2SBf57"
   },
   "outputs": [],
   "source": [
    "def gain_ratio_split(data, nama_fitur_split, nama_fitur_kelas):\n",
    "  # mendapatkan element/nilai unik dan jumlah setiap elemen unik tersebut\n",
    "  nilai,banyak= np.unique(data[nama_fitur_split],return_counts=True)\n",
    "\n",
    "  # information gain (gain split)\n",
    "  entropy_parent = hitung_entropy(data[nama_fitur_kelas])\n",
    "  entropy_iterate = sum((banyak[i]/sum(banyak)) * hitung_entropy(data.where(data[nama_fitur_split]==nilai[i]).dropna()[nama_fitur_kelas]) for i in range(len(nilai)))\n",
    "  gain_split = entropy_parent - entropy_iterate\n",
    "\n",
    "  # split info\n",
    "  split_info = -1 * np.sum([(banyak[i]/np.sum(banyak)) * np.log2(banyak[i]/np.sum(banyak)) for i in range(len(nilai))])\n",
    "\n",
    "  # gain_ratio_split = gain_split / split_info\n",
    "  return gain_split / split_info "
   ]
  },
  {
   "cell_type": "markdown",
   "metadata": {
    "id": "wO51kPvwdamc"
   },
   "source": [
    "## 6.3 Pembentukan Tree"
   ]
  },
  {
   "cell_type": "markdown",
   "metadata": {
    "id": "0imB-SLlOW6V"
   },
   "source": [
    "Membuat fungsi buat_tree untuk membuat model tree"
   ]
  },
  {
   "cell_type": "code",
   "execution_count": 58,
   "metadata": {
    "id": "QgQEdlpq34Mc"
   },
   "outputs": [],
   "source": [
    "def buat_tree(data, data_awal, daftar_fitur, nama_fitur_kelas, kelas_parent_node=None):\n",
    "\n",
    "  #jika hanya ada satu kelas pada data\n",
    "  if len(np.unique(data[nama_fitur_kelas])) <= 1:\n",
    "    return np.unique(data[nama_fitur_kelas])[0]\n",
    "\n",
    "  #jika data kosong\n",
    "  elif len(data)==0:\n",
    "    return np.unique(data_awal[nama_fitur_kelas])[np.argmax(np.unique(data_awal[nama_fitur_kelas],return_counts=True)[1])]\n",
    "\n",
    "  #jika tidak ada fitur yang terisa\n",
    "  elif len(daftar_fitur) ==0:\n",
    "    return kelas_parent_node\n",
    "\n",
    "  else:\n",
    "    kelas_parent_node = np.unique(data[nama_fitur_kelas])[np.argmax(np.unique(data[nama_fitur_kelas],return_counts=True)[1])]\n",
    "\n",
    "    nilai_split = [gain_ratio_split(data, fitur, nama_fitur_kelas) for fitur in daftar_fitur]\n",
    "\n",
    "    index_fitur_terbaik = np.argmax(nilai_split) # return index dari nilai max sepanjang sumbu\n",
    "    fitur_terbaik = daftar_fitur[index_fitur_terbaik]\n",
    "    tree = {fitur_terbaik:{}}\n",
    "    daftar_fitur = [i for i in daftar_fitur if i != fitur_terbaik]\n",
    "    \n",
    "    for nilai in np.unique(data[fitur_terbaik]):\n",
    "      sub_data = data.where(data[fitur_terbaik] == nilai).dropna()\n",
    "      subtree = buat_tree(sub_data,data_awal,daftar_fitur,nama_fitur_kelas,kelas_parent_node)\n",
    "      tree[fitur_terbaik][nilai]=subtree\n",
    "\n",
    "  return(tree)"
   ]
  },
  {
   "cell_type": "markdown",
   "metadata": {
    "id": "2NH8rgWfOuy7"
   },
   "source": [
    "Membuat model tree"
   ]
  },
  {
   "cell_type": "code",
   "execution_count": 59,
   "metadata": {
    "id": "AF29QNvZBCf9"
   },
   "outputs": [],
   "source": [
    "tree = buat_tree(data_latih_full, data_latih_full, data_latih_full.columns[:-1],'Class')"
   ]
  },
  {
   "cell_type": "code",
   "execution_count": 60,
   "metadata": {
    "colab": {
     "base_uri": "https://localhost:8080/"
    },
    "id": "hX9cfmdcjmAJ",
    "outputId": "4aae3ff6-a721-4818-da72-d38c815f1b42"
   },
   "outputs": [
    {
     "name": "stdout",
     "output_type": "stream",
     "text": [
      "Pretty printing has been turned OFF\n"
     ]
    }
   ],
   "source": [
    "pprint(tree)"
   ]
  },
  {
   "cell_type": "markdown",
   "metadata": {
    "id": "uoQfWXVHd7VH"
   },
   "source": [
    "## 6.4 Prediksi Tree"
   ]
  },
  {
   "cell_type": "markdown",
   "metadata": {
    "id": "58wOODj9O18x"
   },
   "source": [
    "Membuat fungsi prediksi_tree untuk memprediksi label dari data_uji yang diberikan"
   ]
  },
  {
   "cell_type": "code",
   "execution_count": 64,
   "metadata": {
    "id": "4y5gj131jjBG"
   },
   "outputs": [],
   "source": [
    "def prediksi_tree(data_uji, tree):\n",
    "  for key in list(data_uji.keys()):\n",
    "    if key in list(tree.keys()):\n",
    "      try:\n",
    "        hasil = tree[key][data_uji[key]]\n",
    "      except:\n",
    "        return 1\n",
    "      hasil = tree[key][data_uji[key]]\n",
    "      if isinstance(hasil,dict):\n",
    "        return prediksi_tree(data_uji,hasil)\n",
    "      else:\n",
    "        return hasil"
   ]
  },
  {
   "cell_type": "markdown",
   "metadata": {
    "id": "6yhfrkkyePDY"
   },
   "source": [
    "## 6.5 Pengujian"
   ]
  },
  {
   "cell_type": "markdown",
   "metadata": {
    "id": "8RifUG5ePAAO"
   },
   "source": [
    "Melakukan pengujian semua data_uji yang dimiliki. Hasil pengujian akan dibandingkan dengan label data_uji sebenarnya. Kemudian hasil perbandingan akan dijadikan dalam bentuk persentase untuk melihat besar akurasi dari hasil Prediksi Decision Tree"
   ]
  },
  {
   "cell_type": "code",
   "execution_count": 65,
   "metadata": {
    "colab": {
     "base_uri": "https://localhost:8080/"
    },
    "id": "bGo2KpLGjsVZ",
    "outputId": "d32e7c9e-5aab-4db9-90b1-eddb922a2868"
   },
   "outputs": [
    {
     "name": "stdout",
     "output_type": "stream",
     "text": [
      "Total prediksi benar:  13\n"
     ]
    }
   ],
   "source": [
    "hasil_prediksi_tree = []\n",
    "data_uji_dict = data_uji_full.iloc[:,:-1].to_dict(orient = \"records\")\n",
    "\n",
    "for i in range(len(data_uji_dict)):\n",
    "  prediksi_data_tree = prediksi_tree(data_uji_dict[i], tree)\n",
    "  hasil_prediksi_tree.append(prediksi_data_tree)\n",
    "\n",
    "prediksi_benar_tree = sum(hasil_prediksi_tree==label_uji)\n",
    "print(\"Total prediksi benar: \", prediksi_benar_tree)"
   ]
  },
  {
   "cell_type": "markdown",
   "metadata": {
    "id": "zzq-shSsPY9q"
   },
   "source": [
    "Hasil akurasi Decision Tree"
   ]
  },
  {
   "cell_type": "code",
   "execution_count": null,
   "metadata": {
    "id": "Fq3k9N8ZjzwW"
   },
   "outputs": [],
   "source": [
    "cetak_akurasi(prediksi_benar_tree, data_uji.shape[0])"
   ]
  },
  {
   "cell_type": "markdown",
   "metadata": {
    "id": "ZJhklSESLxQG"
   },
   "source": [
    "# **7. Hasil Prediksi Tiap Model**"
   ]
  },
  {
   "cell_type": "markdown",
   "metadata": {
    "id": "SlWe4OUEPOtG"
   },
   "source": [
    "Naive Bayes"
   ]
  },
  {
   "cell_type": "code",
   "execution_count": 49,
   "metadata": {
    "colab": {
     "base_uri": "https://localhost:8080/"
    },
    "id": "UnrYFeJXPMXL",
    "outputId": "e66103bc-14cf-474a-8414-707e9347bd49"
   },
   "outputs": [
    {
     "name": "stdout",
     "output_type": "stream",
     "text": [
      "Total prediksi benar: 7\n",
      "Total data uji: 14\n",
      "Akurasi : 50.0 %\n"
     ]
    }
   ],
   "source": [
    "# naive bayes\n",
    "cetak_akurasi(prediksi_benar_bayes, data_uji.shape[0])"
   ]
  },
  {
   "cell_type": "markdown",
   "metadata": {
    "id": "aaHOOXIFPS6g"
   },
   "source": [
    "K-Nearest Neighbor"
   ]
  },
  {
   "cell_type": "code",
   "execution_count": 64,
   "metadata": {
    "colab": {
     "base_uri": "https://localhost:8080/"
    },
    "id": "mSzfDBkVPqhK",
    "outputId": "0dccce62-e18f-475a-8040-da7d5eadfc11"
   },
   "outputs": [
    {
     "name": "stdout",
     "output_type": "stream",
     "text": [
      "K = 3\n",
      "Total prediksi benar: 11\n",
      "Total data uji: 14\n",
      "Akurasi : 78.57142857142857 %\n",
      "\n",
      "K = 7\n",
      "Total prediksi benar: 8\n",
      "Total data uji: 14\n",
      "Akurasi : 57.14285714285714 %\n",
      "\n",
      "K = 11\n",
      "Total prediksi benar: 8\n",
      "Total data uji: 14\n",
      "Akurasi : 57.14285714285714 %\n"
     ]
    }
   ],
   "source": [
    "# KNN\n",
    "print(\"K = 3\")\n",
    "cetak_akurasi(prediksi_benar_knn3, data_uji.shape[0])\n",
    "print()\n",
    "\n",
    "print(\"K = 7\")\n",
    "cetak_akurasi(prediksi_benar_knn7, data_uji.shape[0])\n",
    "print()\n",
    "\n",
    "print(\"K = 11\")\n",
    "cetak_akurasi(prediksi_benar_knn11, data_uji.shape[0])"
   ]
  },
  {
   "cell_type": "markdown",
   "metadata": {
    "id": "Z_y6PRx0RPuO"
   },
   "source": [
    "Decision Tree"
   ]
  },
  {
   "cell_type": "code",
   "execution_count": 66,
   "metadata": {
    "colab": {
     "base_uri": "https://localhost:8080/"
    },
    "id": "gnIXyTEORV_s",
    "outputId": "a813e38b-f478-4b1d-bc39-2d81ca7b6db2"
   },
   "outputs": [
    {
     "name": "stdout",
     "output_type": "stream",
     "text": [
      "Total prediksi benar: 13\n",
      "Total data uji: 14\n",
      "Akurasi : 92.85714285714286 %\n"
     ]
    }
   ],
   "source": [
    "# Decision Tree\n",
    "cetak_akurasi(prediksi_benar_tree, data_uji.shape[0])"
   ]
  },
  {
   "cell_type": "markdown",
   "metadata": {
    "id": "dgM8k7vJS6U-"
   },
   "source": [
    "# **Kesimpulan**\n",
    "\n",
    "Dari percobaan model yang dilakukan, didapatkan hasil akurasi sebagai berikut.\n",
    "\n",
    "Naive Bayes = 50.0 %\n",
    "\n",
    "KNN (k = 3) = 78.57142857142857 %\n",
    "\n",
    "KNN (k = 7) = 57.14285714285714 %\n",
    "\n",
    "KNN (k = 11) = 57.14285714285714 %\n",
    "\n",
    "Decision Tree = 92.85714285714286 %\n",
    "\n",
    "Dapat diamati bahwa akurasi terbesar dimiliki oleh Decision Tree. KNN dengan jumlah k lain memiliki akurasi lebih rendah daripada k=3 namun tetap lebih besar daripada akurasi Naive Bayes. Hal ini berarti model klasifikasi Decision Tree merupakan model yang lebih cocok untuk dataset Dry Bean dibandingkan dengan model naive bayes dan KNN.\n",
    "\n",
    "Pada KNN, pemilihan jumlah K yang tepat sangat berpengaruh terhadap hasil / akurasi yang didapatkan. Hal ini disebabkan karena jumlah kelas unik yang terdapat dalam dataset jumlahnya beragam, sehingga k yang terlalu besar bisa merusak hasil prediksi.\n",
    "\n",
    "Perbandingan akurasi diantara ketiga algoritma di atas dengan akurasi menggunkan pemrosesan awal PCA (Principal Component Analysis) tidak ada karena saya kurang memahami pemrosesan awal PCA. Sehingga hasil akurasi di atas merupakan hasil akurasi tanpa menggunakan PCA.\n"
   ]
  }
 ],
 "metadata": {
  "colab": {
   "collapsed_sections": [
    "FDGy93BlGXzH",
    "mQ5o-Z905s3e",
    "uNemrz7jr34E",
    "uPjfdyRQlemi",
    "T3UptkKGUt9J",
    "ut-gxC64sGe0",
    "Rmfnohw4BHS1",
    "yebgRxVphMQD",
    "qYhMWmzdhh3d",
    "X1o7HOljhn_p",
    "92FuaEDNjM_z",
    "M0_cvbQzLP5V",
    "WvDJ347cReyX",
    "kiMszfV3R2S8",
    "RMlVPPFFdzCV",
    "Lab_SaU0LbNL",
    "YHLiHQAXayDq",
    "vLbjwXkw0988",
    "wO51kPvwdamc",
    "6yhfrkkyePDY"
   ],
   "name": "UTS_195150200111039_Riski Darmawan",
   "provenance": []
  },
  "kernelspec": {
   "display_name": "Python 3 (ipykernel)",
   "language": "python",
   "name": "python3"
  },
  "language_info": {
   "codemirror_mode": {
    "name": "ipython",
    "version": 3
   },
   "file_extension": ".py",
   "mimetype": "text/x-python",
   "name": "python",
   "nbconvert_exporter": "python",
   "pygments_lexer": "ipython3",
   "version": "3.11.3"
  }
 },
 "nbformat": 4,
 "nbformat_minor": 4
}
